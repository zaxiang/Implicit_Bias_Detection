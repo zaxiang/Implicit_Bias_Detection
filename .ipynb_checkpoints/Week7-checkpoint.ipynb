{
 "cells": [
  {
   "cell_type": "markdown",
   "id": "91c9db33",
   "metadata": {},
   "source": [
    "##  WI23 Week 7\n"
   ]
  },
  {
   "cell_type": "markdown",
   "id": "86e25d45",
   "metadata": {},
   "source": [
    "## <span style='background:yellow'>roadmap </span>:\n",
    "\n",
    "1. **normalize all the variables**\n",
    "2. **Self-Implementation of K-means: Use Kmean++ to get the initial centroids; rewright one-hot-encoding features.**\n",
    "3. explore race 4 clusters into B and H distribution by looking at other feature variables; (modified: B, W, and H)\n",
    "4. Clean up code (github)\n",
    "5. Putting into the report: **possible research question (or a theme?): Implicit Bias Detection ?**\n",
    "\n",
    "\n",
    "\n",
    "6. (optional) have been playing with arrest dataset so far, could apply the same thing above to the crime dataset as well to check if there's any inconsistency (crime dataset is a loooot bigger than arrest, not sure if dsmlp can support big data)\n"
   ]
  },
  {
   "cell_type": "markdown",
   "id": "5b32949b",
   "metadata": {},
   "source": [
    "### <span style='background:yellow'> Step 1. Normalize all feature variable (still using the sklearn package): </span>\n",
    "\n",
    "**<font color='blue'>After Normalization</font>: The race Distribution (the green bar) and overall (the blue bar) for B, H, W, O**\n",
    "\n",
    "within 5 clusters on left, and 4 clusters on right\n",
    "<table><tr>\n",
    "<td> <img src='image/sklearn_5_clusters.png' width='450'> </td>\n",
    "<td> <img src='image/sklearn_4_clusters.png' width='450'> </td>\n",
    "</tr></table>\n",
    "\n",
    "There seems to be a lot more variation in all groups (than before normalizing).\n",
    "\n",
    "<font color='red'> **What's Different: Loss is a lot lower after normalize; elbow point for num_cluster change from 4 to 5; Much more variances in race distribution**</font>\n",
    "\n",
    "<font color='blue'> **Before Normalization** </font> Recall the K-means 4 clusters from week 5 (the graph below on right), so I assume there's actually a lot more spurious relationship between race with other data feature than I initially expected last week.\n",
    "\n",
    "<table><tr>\n",
    "<td> <img src='image/week5_overall_distribution.png' width='450'> </td>\n",
    "<td> <img src='image/week5_4_clusters.png' width='450'> </td>\n",
    "</tr></table>\n",
    "\n",
    "\n",
    "**Visualization of Cluster with Dimension Reduction (after normalizing)**\n",
    "<img src='image/dim_red_sklearn.png' width='450'>"
   ]
  },
  {
   "cell_type": "markdown",
   "id": "d7a0dd7f",
   "metadata": {},
   "source": [
    "### <span style='background:yellow'>Step 2. Customized K-Means Implementation to Reweight One-hot-encoding Features :</span>\n",
    "\n",
    "**Reweighting the feature variable so that each set of one-hot-encoding only have 1 weight.**\n",
    "- Have managed to manually add this function into the self-implementation of K-means\n",
    "- Use K-means++ to iteratively initialize the centroids. Randomly choose a data as initial centroids will break my code.\n",
    "\n",
    "The Race Distribution within clusters compared to the overall distribution (4 clusters)\n",
    "<img src='image/custom_4_clusters.png' width='450'>\n",
    "\n",
    "<font color='red'> **What's Different: Looks more stable comapred to the first graph in step 1 (when I only had normalization)**</font>\n",
    "\n",
    "\n",
    "**Visualization of Cluster with Dimension Reduction (after normalizing)**\n",
    "<img src='image/dim_red_custom.png' width='450'>\n",
    "\n",
    "From the clusters graph (even though it might be inaccract bc it reduce the data to 2D), it also looks like reweighting is doing something here that help better clustering the data. So overall, with normalization and reweighting, model's performing better with more complexity (or more feature engineering), and the race distribution have shown some inconsistency with the overall race distribution, which might indicates some spurious relationship."
   ]
  },
  {
   "cell_type": "markdown",
   "id": "b0108433",
   "metadata": {},
   "source": [
    "## <span style='background:yellow'> Archive </span>\n",
    "\n",
    "**an interesting note**: As I was normalizing the columns, I forgot to remove the duplicate index column in the df_feature, and it turned out that distributions within clusters stay about the same as the overall distribution, loss is a loooot higher than before though. Maybe its's the duplicated feature variable that stablize the cluster.\n",
    "<table><tr>\n",
    "<td> <img src='image/normalize_3_clusters.png' width='450'> </td>\n",
    "<td> <img src='image/normalize_4_clusters.png' width='450'> </td>\n",
    "</tr></table>\n",
    "\n",
    "And the dim reduction graph looks a lot different after I fixed this issue:\\\n",
    "It looks like gummy worms before, now its just separate groups of data (which I think the second one makes more sense):\n",
    "<table><tr>\n",
    "<td> <img src='image/gummy worms.png' width='450'> </td>\n",
    "<td> <img src='image/dim_red_custom.png' width='450'> </td>\n",
    "</tr></table>\n"
   ]
  },
  {
   "cell_type": "markdown",
   "id": "1423019d",
   "metadata": {},
   "source": [
    "## <span style='background:yellow'> Possible Research Name: Implicit Bias Detection </span>"
   ]
  },
  {
   "cell_type": "markdown",
   "id": "73d4476b",
   "metadata": {},
   "source": [
    "## <span style='background:orange'> Everything Below is Coding Part </span>"
   ]
  },
  {
   "cell_type": "markdown",
   "id": "6f9e96b1",
   "metadata": {},
   "source": [
    "### Feature Eng (arrest)"
   ]
  },
  {
   "cell_type": "code",
   "execution_count": 1,
   "id": "e87f4c69",
   "metadata": {},
   "outputs": [],
   "source": [
    "import pandas as pd\n",
    "import numpy as np\n",
    "from matplotlib import pyplot as plt\n",
    "\n",
    "arrest = pd.read_csv('arrest-data-from-2010-to-present.csv')\n",
    "crime = pd.read_csv('crime-data-from-2010-to-present.csv')"
   ]
  },
  {
   "cell_type": "code",
   "execution_count": 2,
   "id": "654d60e6",
   "metadata": {},
   "outputs": [],
   "source": [
    "#feature engineering for arrest dataset\n",
    "\n",
    "arrest = arrest.dropna(axis=0)\n",
    "\n",
    "#date (month, date), and time (hour,  minute)\n",
    "import datetime\n",
    "day = arrest['Arrest Date'].apply(lambda x: int(str(x)[8:10]))\n",
    "month = arrest['Arrest Date'].apply(lambda x: int(str(x)[5:7]))\n",
    "hour = arrest['Time'].apply(lambda x: int(str(int(x))[:-2]) if str(int(x))[:-2] != '' else 0)\n",
    "minute = arrest['Time'].apply(lambda x: int(str(int(x))[-2:]) if str(int(x))[:-2] != '' else 0)\n",
    "\n",
    "#location (Geographic Areas, latitude, longitude)\n",
    "import ast\n",
    "area_ID = arrest['Area ID']\n",
    "latitude = arrest['Location'].apply(lambda x: float(ast.literal_eval(x)['latitude']))\n",
    "longitude = arrest['Location'].apply(lambda x: float(ast.literal_eval(x)['longitude']))\n",
    "\n",
    "#charge and arrest type\n",
    "dummies_arrest = pd.get_dummies(arrest['Arrest Type Code'])\n",
    "dummies_charge = pd.get_dummies(arrest['Charge Group Code'])\n",
    "\n",
    "#Age\n",
    "age = arrest['Age']\n",
    "#sex\n",
    "dummies_sex = pd.get_dummies(arrest['Sex Code'])\n",
    "#race\n",
    "dummies_race = pd.get_dummies(arrest['Descent Code'])\n"
   ]
  },
  {
   "cell_type": "markdown",
   "id": "a4003dc3",
   "metadata": {},
   "source": [
    "## <span style='background:orange'> Normalize Features </span>"
   ]
  },
  {
   "cell_type": "code",
   "execution_count": 3,
   "id": "1e57fb1c",
   "metadata": {},
   "outputs": [],
   "source": [
    "def normalize(series):\n",
    "    #already imported np and pd\n",
    "    array = np.array(series)\n",
    "    array_norm = (array-np.min(array))/(np.max(array)-np.min(array))\n",
    "    return pd.Series(array_norm)"
   ]
  },
  {
   "cell_type": "code",
   "execution_count": 4,
   "id": "68e618bb",
   "metadata": {},
   "outputs": [],
   "source": [
    "need_normalize = [day, month, hour, minute, area_ID, latitude, longitude, age]\n",
    "for i in range(len(need_normalize)):\n",
    "    need_normalize[i] = normalize(need_normalize[i])\n"
   ]
  },
  {
   "cell_type": "code",
   "execution_count": 5,
   "id": "fd4e9f02",
   "metadata": {},
   "outputs": [],
   "source": [
    "\n",
    "df_feature = pd.concat({'day':need_normalize[0], 'month':need_normalize[1], \n",
    "                        'hour':need_normalize[2], 'minute': need_normalize[3], \n",
    "                        'area':need_normalize[4], \n",
    "                        'lat':need_normalize[5], 'lon':need_normalize[6], \n",
    "                        'Age': need_normalize[7], \n",
    "                        },axis=1)\n"
   ]
  },
  {
   "cell_type": "code",
   "execution_count": 6,
   "id": "7fb3e41f",
   "metadata": {},
   "outputs": [],
   "source": [
    "dummies_arrest = dummies_arrest.reset_index()\n",
    "dummies_charge = dummies_charge.reset_index()\n",
    "dummies_sex = dummies_sex.reset_index()"
   ]
  },
  {
   "cell_type": "code",
   "execution_count": 7,
   "id": "05d33299",
   "metadata": {},
   "outputs": [],
   "source": [
    "df_feature = df_feature.merge(dummies_arrest, left_index=True, right_index=True)\n",
    "df_feature = df_feature.merge(dummies_charge, left_index=True, right_index=True)\n",
    "df_feature = df_feature.merge(dummies_sex, left_index=True, right_index=True)"
   ]
  },
  {
   "cell_type": "code",
   "execution_count": 8,
   "id": "a2cb9385",
   "metadata": {},
   "outputs": [],
   "source": [
    "df_feature = df_feature.drop(columns=['index_x', 'index_y', 'index'])"
   ]
  },
  {
   "cell_type": "code",
   "execution_count": 9,
   "id": "8577ed87",
   "metadata": {},
   "outputs": [
    {
     "data": {
      "text/html": [
       "<div>\n",
       "<style scoped>\n",
       "    .dataframe tbody tr th:only-of-type {\n",
       "        vertical-align: middle;\n",
       "    }\n",
       "\n",
       "    .dataframe tbody tr th {\n",
       "        vertical-align: top;\n",
       "    }\n",
       "\n",
       "    .dataframe thead th {\n",
       "        text-align: right;\n",
       "    }\n",
       "</style>\n",
       "<table border=\"1\" class=\"dataframe\">\n",
       "  <thead>\n",
       "    <tr style=\"text-align: right;\">\n",
       "      <th></th>\n",
       "      <th>day</th>\n",
       "      <th>month</th>\n",
       "      <th>hour</th>\n",
       "      <th>minute</th>\n",
       "      <th>area</th>\n",
       "      <th>lat</th>\n",
       "      <th>lon</th>\n",
       "      <th>Age</th>\n",
       "      <th>D</th>\n",
       "      <th>F_x</th>\n",
       "      <th>...</th>\n",
       "      <th>20.0</th>\n",
       "      <th>21.0</th>\n",
       "      <th>22.0</th>\n",
       "      <th>23.0</th>\n",
       "      <th>24.0</th>\n",
       "      <th>25.0</th>\n",
       "      <th>26.0</th>\n",
       "      <th>27.0</th>\n",
       "      <th>F_y</th>\n",
       "      <th>M_y</th>\n",
       "    </tr>\n",
       "  </thead>\n",
       "  <tbody>\n",
       "    <tr>\n",
       "      <th>0</th>\n",
       "      <td>0.7</td>\n",
       "      <td>0.454545</td>\n",
       "      <td>0.166667</td>\n",
       "      <td>0.000000</td>\n",
       "      <td>0.70</td>\n",
       "      <td>0.776950</td>\n",
       "      <td>0.546278</td>\n",
       "      <td>0.329787</td>\n",
       "      <td>0</td>\n",
       "      <td>0</td>\n",
       "      <td>...</td>\n",
       "      <td>0</td>\n",
       "      <td>0</td>\n",
       "      <td>1</td>\n",
       "      <td>0</td>\n",
       "      <td>0</td>\n",
       "      <td>0</td>\n",
       "      <td>0</td>\n",
       "      <td>0</td>\n",
       "      <td>1</td>\n",
       "      <td>0</td>\n",
       "    </tr>\n",
       "    <tr>\n",
       "      <th>1</th>\n",
       "      <td>0.7</td>\n",
       "      <td>0.454545</td>\n",
       "      <td>0.083333</td>\n",
       "      <td>0.677966</td>\n",
       "      <td>0.85</td>\n",
       "      <td>0.381114</td>\n",
       "      <td>0.810787</td>\n",
       "      <td>0.212766</td>\n",
       "      <td>0</td>\n",
       "      <td>0</td>\n",
       "      <td>...</td>\n",
       "      <td>0</td>\n",
       "      <td>0</td>\n",
       "      <td>1</td>\n",
       "      <td>0</td>\n",
       "      <td>0</td>\n",
       "      <td>0</td>\n",
       "      <td>0</td>\n",
       "      <td>0</td>\n",
       "      <td>0</td>\n",
       "      <td>1</td>\n",
       "    </tr>\n",
       "    <tr>\n",
       "      <th>2</th>\n",
       "      <td>0.7</td>\n",
       "      <td>0.454545</td>\n",
       "      <td>0.666667</td>\n",
       "      <td>0.254237</td>\n",
       "      <td>0.55</td>\n",
       "      <td>0.399560</td>\n",
       "      <td>0.735059</td>\n",
       "      <td>0.148936</td>\n",
       "      <td>0</td>\n",
       "      <td>1</td>\n",
       "      <td>...</td>\n",
       "      <td>0</td>\n",
       "      <td>0</td>\n",
       "      <td>0</td>\n",
       "      <td>0</td>\n",
       "      <td>0</td>\n",
       "      <td>0</td>\n",
       "      <td>0</td>\n",
       "      <td>0</td>\n",
       "      <td>0</td>\n",
       "      <td>1</td>\n",
       "    </tr>\n",
       "    <tr>\n",
       "      <th>3</th>\n",
       "      <td>0.7</td>\n",
       "      <td>0.454545</td>\n",
       "      <td>0.000000</td>\n",
       "      <td>0.000000</td>\n",
       "      <td>0.65</td>\n",
       "      <td>0.538501</td>\n",
       "      <td>0.519310</td>\n",
       "      <td>0.372340</td>\n",
       "      <td>0</td>\n",
       "      <td>0</td>\n",
       "      <td>...</td>\n",
       "      <td>0</td>\n",
       "      <td>0</td>\n",
       "      <td>1</td>\n",
       "      <td>0</td>\n",
       "      <td>0</td>\n",
       "      <td>0</td>\n",
       "      <td>0</td>\n",
       "      <td>0</td>\n",
       "      <td>0</td>\n",
       "      <td>1</td>\n",
       "    </tr>\n",
       "    <tr>\n",
       "      <th>4</th>\n",
       "      <td>0.7</td>\n",
       "      <td>0.454545</td>\n",
       "      <td>0.291667</td>\n",
       "      <td>0.423729</td>\n",
       "      <td>0.35</td>\n",
       "      <td>0.573193</td>\n",
       "      <td>0.432794</td>\n",
       "      <td>0.276596</td>\n",
       "      <td>0</td>\n",
       "      <td>0</td>\n",
       "      <td>...</td>\n",
       "      <td>0</td>\n",
       "      <td>0</td>\n",
       "      <td>0</td>\n",
       "      <td>1</td>\n",
       "      <td>0</td>\n",
       "      <td>0</td>\n",
       "      <td>0</td>\n",
       "      <td>0</td>\n",
       "      <td>0</td>\n",
       "      <td>1</td>\n",
       "    </tr>\n",
       "    <tr>\n",
       "      <th>...</th>\n",
       "      <td>...</td>\n",
       "      <td>...</td>\n",
       "      <td>...</td>\n",
       "      <td>...</td>\n",
       "      <td>...</td>\n",
       "      <td>...</td>\n",
       "      <td>...</td>\n",
       "      <td>...</td>\n",
       "      <td>...</td>\n",
       "      <td>...</td>\n",
       "      <td>...</td>\n",
       "      <td>...</td>\n",
       "      <td>...</td>\n",
       "      <td>...</td>\n",
       "      <td>...</td>\n",
       "      <td>...</td>\n",
       "      <td>...</td>\n",
       "      <td>...</td>\n",
       "      <td>...</td>\n",
       "      <td>...</td>\n",
       "      <td>...</td>\n",
       "    </tr>\n",
       "    <tr>\n",
       "      <th>208255</th>\n",
       "      <td>0.0</td>\n",
       "      <td>0.000000</td>\n",
       "      <td>0.916667</td>\n",
       "      <td>0.000000</td>\n",
       "      <td>0.60</td>\n",
       "      <td>0.487561</td>\n",
       "      <td>0.867098</td>\n",
       "      <td>0.436170</td>\n",
       "      <td>0</td>\n",
       "      <td>0</td>\n",
       "      <td>...</td>\n",
       "      <td>0</td>\n",
       "      <td>0</td>\n",
       "      <td>1</td>\n",
       "      <td>0</td>\n",
       "      <td>0</td>\n",
       "      <td>0</td>\n",
       "      <td>0</td>\n",
       "      <td>0</td>\n",
       "      <td>0</td>\n",
       "      <td>1</td>\n",
       "    </tr>\n",
       "    <tr>\n",
       "      <th>208256</th>\n",
       "      <td>0.0</td>\n",
       "      <td>0.000000</td>\n",
       "      <td>0.708333</td>\n",
       "      <td>0.423729</td>\n",
       "      <td>0.75</td>\n",
       "      <td>0.897275</td>\n",
       "      <td>0.609061</td>\n",
       "      <td>0.170213</td>\n",
       "      <td>0</td>\n",
       "      <td>1</td>\n",
       "      <td>...</td>\n",
       "      <td>0</td>\n",
       "      <td>0</td>\n",
       "      <td>0</td>\n",
       "      <td>0</td>\n",
       "      <td>0</td>\n",
       "      <td>0</td>\n",
       "      <td>0</td>\n",
       "      <td>0</td>\n",
       "      <td>0</td>\n",
       "      <td>1</td>\n",
       "    </tr>\n",
       "    <tr>\n",
       "      <th>208257</th>\n",
       "      <td>0.0</td>\n",
       "      <td>0.000000</td>\n",
       "      <td>0.875000</td>\n",
       "      <td>0.847458</td>\n",
       "      <td>0.55</td>\n",
       "      <td>0.454730</td>\n",
       "      <td>0.687810</td>\n",
       "      <td>0.159574</td>\n",
       "      <td>0</td>\n",
       "      <td>1</td>\n",
       "      <td>...</td>\n",
       "      <td>0</td>\n",
       "      <td>0</td>\n",
       "      <td>0</td>\n",
       "      <td>0</td>\n",
       "      <td>0</td>\n",
       "      <td>0</td>\n",
       "      <td>0</td>\n",
       "      <td>0</td>\n",
       "      <td>0</td>\n",
       "      <td>1</td>\n",
       "    </tr>\n",
       "    <tr>\n",
       "      <th>208258</th>\n",
       "      <td>0.0</td>\n",
       "      <td>0.000000</td>\n",
       "      <td>0.916667</td>\n",
       "      <td>0.254237</td>\n",
       "      <td>0.50</td>\n",
       "      <td>0.684211</td>\n",
       "      <td>0.987918</td>\n",
       "      <td>0.127660</td>\n",
       "      <td>0</td>\n",
       "      <td>0</td>\n",
       "      <td>...</td>\n",
       "      <td>0</td>\n",
       "      <td>0</td>\n",
       "      <td>0</td>\n",
       "      <td>0</td>\n",
       "      <td>1</td>\n",
       "      <td>0</td>\n",
       "      <td>0</td>\n",
       "      <td>0</td>\n",
       "      <td>0</td>\n",
       "      <td>1</td>\n",
       "    </tr>\n",
       "    <tr>\n",
       "      <th>208259</th>\n",
       "      <td>0.0</td>\n",
       "      <td>0.000000</td>\n",
       "      <td>0.125000</td>\n",
       "      <td>0.322034</td>\n",
       "      <td>0.65</td>\n",
       "      <td>0.548824</td>\n",
       "      <td>0.532470</td>\n",
       "      <td>0.255319</td>\n",
       "      <td>0</td>\n",
       "      <td>0</td>\n",
       "      <td>...</td>\n",
       "      <td>0</td>\n",
       "      <td>0</td>\n",
       "      <td>1</td>\n",
       "      <td>0</td>\n",
       "      <td>0</td>\n",
       "      <td>0</td>\n",
       "      <td>0</td>\n",
       "      <td>0</td>\n",
       "      <td>0</td>\n",
       "      <td>1</td>\n",
       "    </tr>\n",
       "  </tbody>\n",
       "</table>\n",
       "<p>208260 rows × 42 columns</p>\n",
       "</div>"
      ],
      "text/plain": [
       "        day     month      hour    minute  area       lat       lon       Age  \\\n",
       "0       0.7  0.454545  0.166667  0.000000  0.70  0.776950  0.546278  0.329787   \n",
       "1       0.7  0.454545  0.083333  0.677966  0.85  0.381114  0.810787  0.212766   \n",
       "2       0.7  0.454545  0.666667  0.254237  0.55  0.399560  0.735059  0.148936   \n",
       "3       0.7  0.454545  0.000000  0.000000  0.65  0.538501  0.519310  0.372340   \n",
       "4       0.7  0.454545  0.291667  0.423729  0.35  0.573193  0.432794  0.276596   \n",
       "...     ...       ...       ...       ...   ...       ...       ...       ...   \n",
       "208255  0.0  0.000000  0.916667  0.000000  0.60  0.487561  0.867098  0.436170   \n",
       "208256  0.0  0.000000  0.708333  0.423729  0.75  0.897275  0.609061  0.170213   \n",
       "208257  0.0  0.000000  0.875000  0.847458  0.55  0.454730  0.687810  0.159574   \n",
       "208258  0.0  0.000000  0.916667  0.254237  0.50  0.684211  0.987918  0.127660   \n",
       "208259  0.0  0.000000  0.125000  0.322034  0.65  0.548824  0.532470  0.255319   \n",
       "\n",
       "        D  F_x  ...  20.0  21.0  22.0  23.0  24.0  25.0  26.0  27.0  F_y  M_y  \n",
       "0       0    0  ...     0     0     1     0     0     0     0     0    1    0  \n",
       "1       0    0  ...     0     0     1     0     0     0     0     0    0    1  \n",
       "2       0    1  ...     0     0     0     0     0     0     0     0    0    1  \n",
       "3       0    0  ...     0     0     1     0     0     0     0     0    0    1  \n",
       "4       0    0  ...     0     0     0     1     0     0     0     0    0    1  \n",
       "...    ..  ...  ...   ...   ...   ...   ...   ...   ...   ...   ...  ...  ...  \n",
       "208255  0    0  ...     0     0     1     0     0     0     0     0    0    1  \n",
       "208256  0    1  ...     0     0     0     0     0     0     0     0    0    1  \n",
       "208257  0    1  ...     0     0     0     0     0     0     0     0    0    1  \n",
       "208258  0    0  ...     0     0     0     0     1     0     0     0    0    1  \n",
       "208259  0    0  ...     0     0     1     0     0     0     0     0    0    1  \n",
       "\n",
       "[208260 rows x 42 columns]"
      ]
     },
     "execution_count": 9,
     "metadata": {},
     "output_type": "execute_result"
    }
   ],
   "source": [
    "df_feature"
   ]
  },
  {
   "cell_type": "code",
   "execution_count": 10,
   "id": "17f94394",
   "metadata": {},
   "outputs": [
    {
     "data": {
      "text/plain": [
       "Index([   'day',  'month',   'hour', 'minute',   'area',    'lat',    'lon',\n",
       "          'Age',      'D',    'F_x',      'I',    'M_x',      'O',      1.0,\n",
       "            2.0,      3.0,      4.0,      5.0,      6.0,      7.0,      8.0,\n",
       "            9.0,     10.0,     11.0,     12.0,     13.0,     14.0,     15.0,\n",
       "           16.0,     17.0,     18.0,     19.0,     20.0,     21.0,     22.0,\n",
       "           23.0,     24.0,     25.0,     26.0,     27.0,    'F_y',    'M_y'],\n",
       "      dtype='object')"
      ]
     },
     "execution_count": 10,
     "metadata": {},
     "output_type": "execute_result"
    }
   ],
   "source": [
    "df_feature.columns"
   ]
  },
  {
   "cell_type": "code",
   "execution_count": 11,
   "id": "e0e4d466",
   "metadata": {},
   "outputs": [],
   "source": [
    "## Visualizing the data with reduced dim (TSNE runs forever...........)\n",
    "\n",
    "# import seaborn as sns\n",
    "# from sklearn.manifold import TSNE, MDS\n",
    "\n",
    "# X = df_feature.values.tolist()\n",
    "# y = pd.factorize(arrest['Descent Code'])[0]\n",
    "# y = y.tolist()\n",
    "\n",
    "# rnd_indices = np.random.choice(len(X), size=10000)\n",
    "# rnd_X = [X[i] for i in rnd_indices]\n",
    "# rnd_y = [y[i] for i in rnd_indices]\n",
    "\n",
    "# dims = TSNE(random_state=42).fit_transform(rnd_X)\n",
    "# dim1, dim2 = dims[:, 0], dims[:, 1]\n",
    "# sns.scatterplot(x=dim1, y=dim2, hue=rnd_y, palette='tab10', legend=False)\n",
    "# plt.title('Overall Data Distribution after t-SNE');"
   ]
  },
  {
   "cell_type": "markdown",
   "id": "9ed8c327",
   "metadata": {},
   "source": [
    "### Sklearn K-means Model"
   ]
  },
  {
   "cell_type": "code",
   "execution_count": 12,
   "id": "f5fe64bd",
   "metadata": {},
   "outputs": [],
   "source": [
    "#### K-means model from sk-learn\n",
    "from sklearn.cluster import KMeans\n",
    "import numpy as np\n",
    "\n",
    "def get_grouping_assignment(df_feature, num_cluster):\n",
    "        \n",
    "    X = df_feature.values.tolist()\n",
    "    y = pd.factorize(arrest['Descent Code'])[0]\n",
    "    y = y.tolist()\n",
    "    \n",
    "    kmeans = KMeans(n_clusters=num_cluster, random_state=0).fit(X)\n",
    "    \n",
    "    prediction = []\n",
    "    for x in X:\n",
    "        y_pred = kmeans.predict(np.array([x]))\n",
    "        prediction.append(y_pred)\n",
    "        \n",
    "    loss = kmeans.inertia_\n",
    "    \n",
    "    return y, [i[0] for i in prediction], loss\n"
   ]
  },
  {
   "cell_type": "code",
   "execution_count": 13,
   "id": "461ad535",
   "metadata": {},
   "outputs": [],
   "source": [
    "def Run_Race(df_feature, cluster_range):\n",
    "    \n",
    "    loss_lis = []\n",
    "    \n",
    "    significant_race = ['B', 'H', 'W', 'O']\n",
    "    \n",
    "    race_code_dic = {0:'O', 1:'H', 2:'B', 3:'W', 4:'A', 5:'G', 6:'F', 7:'J', 8:'I', 9:'C', 10:'K', 11:'P', 12:'X', 13:'U', 14:'Z', 15:'S', 16:'L'}\n",
    "    \n",
    "    def total_variation_distance(first_distrib, second_distrib):\n",
    "        '''Computes the total variation distance between two distributions.'''\n",
    "        return np.sum(np.abs(first_distrib - second_distrib)) / 2\n",
    "    \n",
    "    prediction_dict = {}\n",
    "    \n",
    "    for num_cluster in cluster_range:\n",
    "        \n",
    "        tvd_lis = []\n",
    "        \n",
    "        group_assignment = get_grouping_assignment(df_feature, num_cluster)\n",
    "        y = group_assignment[0]\n",
    "        prediction = group_assignment[1]\n",
    "        loss = group_assignment[2]\n",
    "        \n",
    "        loss_lis.append(loss)\n",
    "        \n",
    "        #TODO: does mapping actually work for the predictiuon here?\n",
    "        df_results = pd.concat({'race_label':pd.Series(y).map(race_code_dic), \n",
    "                                'grouping':pd.Series(prediction)}, axis=1) \n",
    "        \n",
    "        prediction_dict[num_cluster] = df_results\n",
    "        \n",
    "        #only getting the distribution of 'B', 'H', 'W', 'O'\n",
    "        y_dist_series = df_results[df_results.race_label.isin(significant_race)].race_label.value_counts(normalize=True)\n",
    "        \n",
    "#         print(\"======================= Model with\", num_cluster,  \"of cluster =======================\")\n",
    "        \n",
    "        #after the clustering process is done, look into only one cluster at a time and calculate the tvd for race\n",
    "        for group in df_results.grouping.unique(): \n",
    "            \n",
    "            pred_dist_series_group = df_results[(df_results.grouping == group) & (df_results.race_label.isin(significant_race))].race_label.value_counts(normalize=True)\n",
    "            df_concat = pd.concat([y_dist_series, pred_dist_series_group], axis=1) #this step is to map the index, should all have race code as index, and percent as value\n",
    "            df_concat.columns = ['c1', 'c2']\n",
    "            \n",
    "            tvd = total_variation_distance(np.array(df_concat['c1']), np.array(df_concat['c2'])) \n",
    "            tvd_lis.append(tvd)\n",
    "            \n",
    "#         TODO: simulated TVDs and get the p-value if necessary (if tvd appears to be large)\n",
    "#             or not? if tvd is large than 0.01 or 0.05, then its clear p-value is gonna be close to 0 (or < 0.01)\n",
    "            \n",
    "            simulated_tvds = np.array([])\n",
    "            trials = 5000\n",
    "            num_sample = len(prediction)\n",
    "            for trial in np.arange(trials):\n",
    "                simulated_empirical = np.random.multinomial(num_sample, np.array(y_dist_series)) / num_sample\n",
    "                current_tvd = total_variation_distance(np.array(df_concat['c1']), simulated_empirical)\n",
    "                simulated_tvds = np.append(simulated_tvds, current_tvd)\n",
    "                \n",
    "            #proportion of times in our simulation that we saw a TVD greater than or equal to our observed TVD.\n",
    "            p_value = np.count_nonzero(simulated_tvds >= tvd) / trials\n",
    "            \n",
    "        # Visualize with a histogram\n",
    "#         counts, bins = np.histogram(simulated_tvds)\n",
    "#         plt.stairs(counts, bins)\n",
    "#         plt.hist(bins[:-1], bins, weights=counts)\n",
    "#         plt.axvline(x=tvd, color='black', linewidth=4, label='observed average tvd')\n",
    "#         plt.legend()\n",
    "#         plt.show()\n",
    "        \n",
    "        print(\"average tvd between\", str(num_cluster), \"cluster and overall distribution:\", sum(tvd_lis)/len(tvd_lis), 'P-value:', p_value)\n",
    "        \n",
    "        \n",
    "        \n",
    "    return prediction_dict, loss_lis\n",
    "            \n",
    "        "
   ]
  },
  {
   "cell_type": "code",
   "execution_count": 14,
   "id": "3f360679",
   "metadata": {},
   "outputs": [
    {
     "name": "stdout",
     "output_type": "stream",
     "text": [
      "average tvd between 3 cluster and overall distribution: 0.09070718846259655 P-value: 0.0\n",
      "average tvd between 4 cluster and overall distribution: 0.10826596396660429 P-value: 0.0\n",
      "average tvd between 5 cluster and overall distribution: 0.11908341414992556 P-value: 0.0\n",
      "average tvd between 6 cluster and overall distribution: 0.1175966047738274 P-value: 0.0\n"
     ]
    }
   ],
   "source": [
    "prediction_dict, loss_lis = Run_Race(df_feature, range(3, 7))"
   ]
  },
  {
   "cell_type": "code",
   "execution_count": 15,
   "id": "9bd4d83c",
   "metadata": {},
   "outputs": [],
   "source": [
    "def plot_elbow(k_range, loss_lis):\n",
    "    from matplotlib import pyplot as plt\n",
    "    plt.plot(k_range, loss_lis)\n",
    "    plt.title('Optimal num of Cluster')\n",
    "    plt.xlabel('Num of clusters k')\n",
    "    plt.ylabel('Sum of squared distances')\n",
    "    plt.show"
   ]
  },
  {
   "cell_type": "code",
   "execution_count": 16,
   "id": "6913a9d4",
   "metadata": {},
   "outputs": [
    {
     "data": {
      "image/png": "[encoded data removed]",
      "text/plain": [
       "<Figure size 432x288 with 1 Axes>"
      ]
     },
     "metadata": {
      "needs_background": "light"
     },
     "output_type": "display_data"
    }
   ],
   "source": [
    "plot_elbow(np.arange(3, 7), loss_lis)"
   ]
  },
  {
   "cell_type": "markdown",
   "id": "ec1ac577",
   "metadata": {},
   "source": [
    "4 seem like a good number for clusters from the above graph on loss scores.\\\n",
    "after removing duplicate index columns in df_feature, the graph indecates 5 cluster is the elbow point"
   ]
  },
  {
   "cell_type": "markdown",
   "id": "046dcaa0",
   "metadata": {},
   "source": [
    "### Plot the Race Distribution Overall & Within Clusters (for k=4 and k=3)"
   ]
  },
  {
   "cell_type": "markdown",
   "id": "d93ccd71",
   "metadata": {},
   "source": [
    "#### Race Ditribution Overall:\n",
    "only plot B H W O later to better visualize these four"
   ]
  },
  {
   "cell_type": "code",
   "execution_count": 17,
   "id": "4256728f",
   "metadata": {},
   "outputs": [
    {
     "data": {
      "text/plain": [
       "<BarContainer object of 17 artists>"
      ]
     },
     "execution_count": 17,
     "metadata": {},
     "output_type": "execute_result"
    },
    {
     "data": {
      "image/png": "[encoded data removed]",
      "text/plain": [
       "<Figure size 432x288 with 1 Axes>"
      ]
     },
     "metadata": {
      "needs_background": "light"
     },
     "output_type": "display_data"
    }
   ],
   "source": [
    "five_clusters_df = prediction_dict[5]\n",
    "prop_all = five_clusters_df.race_label.value_counts(normalize=True)\n",
    "plt.bar(prop_all.index, prop_all.values)"
   ]
  },
  {
   "cell_type": "markdown",
   "id": "0894ff75",
   "metadata": {},
   "source": [
    "#### Race Distribution Within 5 Clusters"
   ]
  },
  {
   "cell_type": "code",
   "execution_count": 18,
   "id": "492eadc5",
   "metadata": {},
   "outputs": [],
   "source": [
    "five_clusters_df = prediction_dict[5]\n",
    "five_clusters_df = five_clusters_df[five_clusters_df['race_label'].isin(['B', 'H', 'W', 'O'])]"
   ]
  },
  {
   "cell_type": "code",
   "execution_count": 28,
   "id": "b6578a63",
   "metadata": {},
   "outputs": [
    {
     "data": {
      "text/plain": [
       "Text(0.5, 1.0, 'Race Distribution: Overall & Within_Clusters, k=5')"
      ]
     },
     "execution_count": 28,
     "metadata": {},
     "output_type": "execute_result"
    },
    {
     "data": {
      "image/png": "[encoded data removed]",
      "text/plain": [
       "<Figure size 1080x576 with 1 Axes>"
      ]
     },
     "metadata": {
      "needs_background": "light"
     },
     "output_type": "display_data"
    }
   ],
   "source": [
    "\n",
    "plotdata = pd.DataFrame({\n",
    "    \n",
    "    \"true_dist\": five_clusters_df.race_label.value_counts(normalize=True).values,\n",
    "\n",
    "    \"cluster 0\":five_clusters_df[five_clusters_df['grouping'] == 0].race_label.value_counts(normalize=True).values,\n",
    "\n",
    "    \"cluster 1\":five_clusters_df[five_clusters_df['grouping'] == 1].race_label.value_counts(normalize=True).values,\n",
    "\n",
    "    \"cluster 2\":five_clusters_df[five_clusters_df['grouping'] == 2].race_label.value_counts(normalize=True).values,\n",
    "    \n",
    "    \"cluster 3\":five_clusters_df[five_clusters_df['grouping'] == 3].race_label.value_counts(normalize=True).values,\n",
    "    \n",
    "    \"cluster 4\":five_clusters_df[five_clusters_df['grouping'] == 4].race_label.value_counts(normalize=True).values},\n",
    "    \n",
    "    index = list(five_clusters_df[five_clusters_df['grouping'] == 0].race_label.value_counts(normalize=True).index))\n",
    "\n",
    "my_colors = ['b', 'g', 'y', 'g', 'y', 'g']\n",
    "\n",
    "plotdata.plot(kind=\"bar\",figsize=(15, 8), color=my_colors)\n",
    "plt.title('Race Distribution: Overall & Within_Clusters, k=5')"
   ]
  },
  {
   "cell_type": "markdown",
   "id": "c3ec3e5a",
   "metadata": {},
   "source": [
    "#### Race Distribution Within 4 Clusters"
   ]
  },
  {
   "cell_type": "code",
   "execution_count": 29,
   "id": "ba6a070b",
   "metadata": {},
   "outputs": [],
   "source": [
    "four_clusters_df = prediction_dict[4]\n",
    "four_clusters_df = four_clusters_df[four_clusters_df['race_label'].isin(['B', 'H', 'W', 'O'])]"
   ]
  },
  {
   "cell_type": "code",
   "execution_count": 21,
   "id": "ef3ac68d",
   "metadata": {},
   "outputs": [
    {
     "data": {
      "text/plain": [
       "Text(0.5, 1.0, 'Race Distribution: Overall & Within_Clusters, k=4')"
      ]
     },
     "execution_count": 21,
     "metadata": {},
     "output_type": "execute_result"
    },
    {
     "data": {
      "image/png": "[encoded data removed]",
      "text/plain": [
       "<Figure size 1080x576 with 1 Axes>"
      ]
     },
     "metadata": {
      "needs_background": "light"
     },
     "output_type": "display_data"
    }
   ],
   "source": [
    "\n",
    "plotdata = pd.DataFrame({\n",
    "    \n",
    "    \"true_dist\": four_clusters_df.race_label.value_counts(normalize=True).values,\n",
    "\n",
    "    \"cluster 0\":four_clusters_df[four_clusters_df['grouping'] == 0].race_label.value_counts(normalize=True).values,\n",
    "\n",
    "    \"cluster 1\":four_clusters_df[four_clusters_df['grouping'] == 1].race_label.value_counts(normalize=True).values,\n",
    "\n",
    "    \"cluster 2\":four_clusters_df[four_clusters_df['grouping'] == 2].race_label.value_counts(normalize=True).values,\n",
    "    \n",
    "    \"cluster 3\":four_clusters_df[four_clusters_df['grouping'] == 3].race_label.value_counts(normalize=True).values},\n",
    "    \n",
    "    index = list(four_clusters_df[four_clusters_df['grouping'] == 0].race_label.value_counts(normalize=True).index))\n",
    "\n",
    "my_colors = ['b', 'g', 'y', 'g', 'y']\n",
    "\n",
    "plotdata.plot(kind=\"bar\",figsize=(15, 8), color=my_colors)\n",
    "plt.title('Race Distribution: Overall & Within_Clusters, k=4')"
   ]
  },
  {
   "cell_type": "markdown",
   "id": "76585b73",
   "metadata": {},
   "source": [
    "#### Race Distribution Within 3 Clusters"
   ]
  },
  {
   "cell_type": "code",
   "execution_count": 22,
   "id": "09afc343",
   "metadata": {},
   "outputs": [],
   "source": [
    "three_clusters_df = prediction_dict[3]\n",
    "three_clusters_df = three_clusters_df[three_clusters_df['race_label'].isin(['B', 'H', 'W', 'O'])]"
   ]
  },
  {
   "cell_type": "code",
   "execution_count": 23,
   "id": "45b56bb8",
   "metadata": {},
   "outputs": [
    {
     "data": {
      "image/png": "[encoded data removed]",
      "text/plain": [
       "<Figure size 1080x576 with 1 Axes>"
      ]
     },
     "metadata": {
      "needs_background": "light"
     },
     "output_type": "display_data"
    }
   ],
   "source": [
    "\n",
    "plotdata = pd.DataFrame({\n",
    "    \n",
    "    \"true_dist\": three_clusters_df.race_label.value_counts(normalize=True).values,\n",
    "\n",
    "    \"cluster 0\":three_clusters_df[three_clusters_df['grouping'] == 0].race_label.value_counts(normalize=True).values,\n",
    "\n",
    "    \"cluster 1\":three_clusters_df[three_clusters_df['grouping'] == 1].race_label.value_counts(normalize=True).values,\n",
    "\n",
    "    \"cluster 2\":three_clusters_df[three_clusters_df['grouping'] == 2].race_label.value_counts(normalize=True).values},\n",
    "       \n",
    "    index = list(three_clusters_df[three_clusters_df['grouping'] == 0].race_label.value_counts(normalize=True).index))\n",
    "\n",
    "my_colors = ['b', 'g', 'y', 'g', 'y']\n",
    "\n",
    "plotdata.plot(kind=\"bar\",figsize=(15, 8), color=my_colors)\n",
    "plt.title('Race Distribution: Overall & Within_Clusters, k=3');"
   ]
  },
  {
   "cell_type": "markdown",
   "id": "4beeee43",
   "metadata": {},
   "source": [
    "### Discussion from Step 1 (Normaliz the feature)\n",
    "\n",
    "<font color='red'>**Before removing index col**: As we see from the two distribution graphs screenshots (for 4 and 3 clusters k-means model) on top, there is more variation in H (Hispanic/Latin/Mexican) and W (White) groups.\\\n",
    "    Loss is a lot higher after normalize; less variance in race distribution among clusters after normalize features.</font>\n",
    "    \n",
    "    \n",
    "<font color='red'>**After removing index col**: from the 5 clusters graph, the distribution within clusters varies a lot in B H and W groups (even O), so we might need to look into all of them.</font>\n",
    "\n",
    "\n",
    "\n",
    "\n",
    "\n",
    "Race Code:\n",
    "A Other Asian B - Black C - Chinese D - Cambodian F - Filipino G - Guamanian H - Hispanic/Latin/Mexican I - American Indian/Alaskan Native J - Japanese K - Korean L - Laotian O - Other P - Pacific Islander S - Samoan U - Hawaiian V - Vietnamese W - White X - Unknown Z - Asian Indian"
   ]
  },
  {
   "cell_type": "markdown",
   "id": "c75f195e",
   "metadata": {},
   "source": [
    "### Vis the Cluster with Reduced Dim"
   ]
  },
  {
   "cell_type": "code",
   "execution_count": 24,
   "id": "1a688953",
   "metadata": {},
   "outputs": [],
   "source": [
    "import seaborn as sns\n",
    "from sklearn.manifold import TSNE, MDS\n",
    "\n",
    "X = df_feature.values.tolist()\n",
    "y = pd.factorize(arrest['Descent Code'])[0]\n",
    "y = y.tolist()\n",
    "\n",
    "rnd_indices = np.random.choice(207503, size=10000) #the size for pred is slightly smaller than X\n",
    "rnd_X = [X[i] for i in rnd_indices]\n",
    "pred = four_clusters_df.grouping.tolist() \n",
    "rnd_pred = [pred[i] for i in rnd_indices]\n",
    "y = three_clusters_df.race_label.tolist()\n",
    "rnd_y = [y[i] for i in rnd_indices]"
   ]
  },
  {
   "cell_type": "code",
   "execution_count": 25,
   "id": "079e1b0b",
   "metadata": {},
   "outputs": [
    {
     "ename": "KeyboardInterrupt",
     "evalue": "",
     "output_type": "error",
     "traceback": [
      "\u001b[0;31m---------------------------------------------------------------------------\u001b[0m",
      "\u001b[0;31mKeyboardInterrupt\u001b[0m                         Traceback (most recent call last)",
      "\u001b[0;32m/tmp/ipykernel_186/3782535573.py\u001b[0m in \u001b[0;36m<module>\u001b[0;34m\u001b[0m\n\u001b[1;32m      1\u001b[0m \u001b[0;31m#color represent the race group\u001b[0m\u001b[0;34m\u001b[0m\u001b[0;34m\u001b[0m\u001b[0;34m\u001b[0m\u001b[0m\n\u001b[0;32m----> 2\u001b[0;31m \u001b[0mdims\u001b[0m \u001b[0;34m=\u001b[0m \u001b[0mTSNE\u001b[0m\u001b[0;34m(\u001b[0m\u001b[0mrandom_state\u001b[0m\u001b[0;34m=\u001b[0m\u001b[0;36m42\u001b[0m\u001b[0;34m)\u001b[0m\u001b[0;34m.\u001b[0m\u001b[0mfit_transform\u001b[0m\u001b[0;34m(\u001b[0m\u001b[0mrnd_X\u001b[0m\u001b[0;34m)\u001b[0m\u001b[0;34m\u001b[0m\u001b[0;34m\u001b[0m\u001b[0m\n\u001b[0m\u001b[1;32m      3\u001b[0m \u001b[0mdim1\u001b[0m\u001b[0;34m,\u001b[0m \u001b[0mdim2\u001b[0m \u001b[0;34m=\u001b[0m \u001b[0mdims\u001b[0m\u001b[0;34m[\u001b[0m\u001b[0;34m:\u001b[0m\u001b[0;34m,\u001b[0m \u001b[0;36m0\u001b[0m\u001b[0;34m]\u001b[0m\u001b[0;34m,\u001b[0m \u001b[0mdims\u001b[0m\u001b[0;34m[\u001b[0m\u001b[0;34m:\u001b[0m\u001b[0;34m,\u001b[0m \u001b[0;36m1\u001b[0m\u001b[0;34m]\u001b[0m\u001b[0;34m\u001b[0m\u001b[0;34m\u001b[0m\u001b[0m\n\u001b[1;32m      4\u001b[0m \u001b[0msns\u001b[0m\u001b[0;34m.\u001b[0m\u001b[0mscatterplot\u001b[0m\u001b[0;34m(\u001b[0m\u001b[0mx\u001b[0m\u001b[0;34m=\u001b[0m\u001b[0mdim1\u001b[0m\u001b[0;34m,\u001b[0m \u001b[0my\u001b[0m\u001b[0;34m=\u001b[0m\u001b[0mdim2\u001b[0m\u001b[0;34m,\u001b[0m \u001b[0mhue\u001b[0m\u001b[0;34m=\u001b[0m\u001b[0mrnd_y\u001b[0m\u001b[0;34m,\u001b[0m \u001b[0mpalette\u001b[0m\u001b[0;34m=\u001b[0m\u001b[0;34m'tab10'\u001b[0m\u001b[0;34m,\u001b[0m \u001b[0mlegend\u001b[0m\u001b[0;34m=\u001b[0m\u001b[0;32mFalse\u001b[0m\u001b[0;34m)\u001b[0m\u001b[0;34m\u001b[0m\u001b[0;34m\u001b[0m\u001b[0m\n\u001b[1;32m      5\u001b[0m \u001b[0mplt\u001b[0m\u001b[0;34m.\u001b[0m\u001b[0mtitle\u001b[0m\u001b[0;34m(\u001b[0m\u001b[0;34m'Overall race group labeled after t-SNE'\u001b[0m\u001b[0;34m)\u001b[0m\u001b[0;34m;\u001b[0m\u001b[0;34m\u001b[0m\u001b[0;34m\u001b[0m\u001b[0m\n",
      "\u001b[0;32m/opt/conda/lib/python3.9/site-packages/sklearn/manifold/_t_sne.py\u001b[0m in \u001b[0;36mfit_transform\u001b[0;34m(self, X, y)\u001b[0m\n\u001b[1;32m    930\u001b[0m             \u001b[0mEmbedding\u001b[0m \u001b[0mof\u001b[0m \u001b[0mthe\u001b[0m \u001b[0mtraining\u001b[0m \u001b[0mdata\u001b[0m \u001b[0;32min\u001b[0m \u001b[0mlow\u001b[0m\u001b[0;34m-\u001b[0m\u001b[0mdimensional\u001b[0m \u001b[0mspace\u001b[0m\u001b[0;34m.\u001b[0m\u001b[0;34m\u001b[0m\u001b[0;34m\u001b[0m\u001b[0m\n\u001b[1;32m    931\u001b[0m         \"\"\"\n\u001b[0;32m--> 932\u001b[0;31m         \u001b[0membedding\u001b[0m \u001b[0;34m=\u001b[0m \u001b[0mself\u001b[0m\u001b[0;34m.\u001b[0m\u001b[0m_fit\u001b[0m\u001b[0;34m(\u001b[0m\u001b[0mX\u001b[0m\u001b[0;34m)\u001b[0m\u001b[0;34m\u001b[0m\u001b[0;34m\u001b[0m\u001b[0m\n\u001b[0m\u001b[1;32m    933\u001b[0m         \u001b[0mself\u001b[0m\u001b[0;34m.\u001b[0m\u001b[0membedding_\u001b[0m \u001b[0;34m=\u001b[0m \u001b[0membedding\u001b[0m\u001b[0;34m\u001b[0m\u001b[0;34m\u001b[0m\u001b[0m\n\u001b[1;32m    934\u001b[0m         \u001b[0;32mreturn\u001b[0m \u001b[0mself\u001b[0m\u001b[0;34m.\u001b[0m\u001b[0membedding_\u001b[0m\u001b[0;34m\u001b[0m\u001b[0;34m\u001b[0m\u001b[0m\n",
      "\u001b[0;32m/opt/conda/lib/python3.9/site-packages/sklearn/manifold/_t_sne.py\u001b[0m in \u001b[0;36m_fit\u001b[0;34m(self, X, skip_num_points)\u001b[0m\n\u001b[1;32m    839\u001b[0m         \u001b[0mdegrees_of_freedom\u001b[0m \u001b[0;34m=\u001b[0m \u001b[0mmax\u001b[0m\u001b[0;34m(\u001b[0m\u001b[0mself\u001b[0m\u001b[0;34m.\u001b[0m\u001b[0mn_components\u001b[0m \u001b[0;34m-\u001b[0m \u001b[0;36m1\u001b[0m\u001b[0;34m,\u001b[0m \u001b[0;36m1\u001b[0m\u001b[0;34m)\u001b[0m\u001b[0;34m\u001b[0m\u001b[0;34m\u001b[0m\u001b[0m\n\u001b[1;32m    840\u001b[0m \u001b[0;34m\u001b[0m\u001b[0m\n\u001b[0;32m--> 841\u001b[0;31m         return self._tsne(P, degrees_of_freedom, n_samples,\n\u001b[0m\u001b[1;32m    842\u001b[0m                           \u001b[0mX_embedded\u001b[0m\u001b[0;34m=\u001b[0m\u001b[0mX_embedded\u001b[0m\u001b[0;34m,\u001b[0m\u001b[0;34m\u001b[0m\u001b[0;34m\u001b[0m\u001b[0m\n\u001b[1;32m    843\u001b[0m                           \u001b[0mneighbors\u001b[0m\u001b[0;34m=\u001b[0m\u001b[0mneighbors_nn\u001b[0m\u001b[0;34m,\u001b[0m\u001b[0;34m\u001b[0m\u001b[0;34m\u001b[0m\u001b[0m\n",
      "\u001b[0;32m/opt/conda/lib/python3.9/site-packages/sklearn/manifold/_t_sne.py\u001b[0m in \u001b[0;36m_tsne\u001b[0;34m(self, P, degrees_of_freedom, n_samples, X_embedded, neighbors, skip_num_points)\u001b[0m\n\u001b[1;32m    895\u001b[0m             \u001b[0mopt_args\u001b[0m\u001b[0;34m[\u001b[0m\u001b[0;34m'momentum'\u001b[0m\u001b[0;34m]\u001b[0m \u001b[0;34m=\u001b[0m \u001b[0;36m0.8\u001b[0m\u001b[0;34m\u001b[0m\u001b[0;34m\u001b[0m\u001b[0m\n\u001b[1;32m    896\u001b[0m             \u001b[0mopt_args\u001b[0m\u001b[0;34m[\u001b[0m\u001b[0;34m'n_iter_without_progress'\u001b[0m\u001b[0;34m]\u001b[0m \u001b[0;34m=\u001b[0m \u001b[0mself\u001b[0m\u001b[0;34m.\u001b[0m\u001b[0mn_iter_without_progress\u001b[0m\u001b[0;34m\u001b[0m\u001b[0;34m\u001b[0m\u001b[0m\n\u001b[0;32m--> 897\u001b[0;31m             params, kl_divergence, it = _gradient_descent(obj_func, params,\n\u001b[0m\u001b[1;32m    898\u001b[0m                                                           **opt_args)\n\u001b[1;32m    899\u001b[0m \u001b[0;34m\u001b[0m\u001b[0m\n",
      "\u001b[0;32m/opt/conda/lib/python3.9/site-packages/sklearn/manifold/_t_sne.py\u001b[0m in \u001b[0;36m_gradient_descent\u001b[0;34m(objective, p0, it, n_iter, n_iter_check, n_iter_without_progress, momentum, learning_rate, min_gain, min_grad_norm, verbose, args, kwargs)\u001b[0m\n\u001b[1;32m    361\u001b[0m         \u001b[0mkwargs\u001b[0m\u001b[0;34m[\u001b[0m\u001b[0;34m'compute_error'\u001b[0m\u001b[0;34m]\u001b[0m \u001b[0;34m=\u001b[0m \u001b[0mcheck_convergence\u001b[0m \u001b[0;32mor\u001b[0m \u001b[0mi\u001b[0m \u001b[0;34m==\u001b[0m \u001b[0mn_iter\u001b[0m \u001b[0;34m-\u001b[0m \u001b[0;36m1\u001b[0m\u001b[0;34m\u001b[0m\u001b[0;34m\u001b[0m\u001b[0m\n\u001b[1;32m    362\u001b[0m \u001b[0;34m\u001b[0m\u001b[0m\n\u001b[0;32m--> 363\u001b[0;31m         \u001b[0merror\u001b[0m\u001b[0;34m,\u001b[0m \u001b[0mgrad\u001b[0m \u001b[0;34m=\u001b[0m \u001b[0mobjective\u001b[0m\u001b[0;34m(\u001b[0m\u001b[0mp\u001b[0m\u001b[0;34m,\u001b[0m \u001b[0;34m*\u001b[0m\u001b[0margs\u001b[0m\u001b[0;34m,\u001b[0m \u001b[0;34m**\u001b[0m\u001b[0mkwargs\u001b[0m\u001b[0;34m)\u001b[0m\u001b[0;34m\u001b[0m\u001b[0;34m\u001b[0m\u001b[0m\n\u001b[0m\u001b[1;32m    364\u001b[0m         \u001b[0mgrad_norm\u001b[0m \u001b[0;34m=\u001b[0m \u001b[0mlinalg\u001b[0m\u001b[0;34m.\u001b[0m\u001b[0mnorm\u001b[0m\u001b[0;34m(\u001b[0m\u001b[0mgrad\u001b[0m\u001b[0;34m)\u001b[0m\u001b[0;34m\u001b[0m\u001b[0;34m\u001b[0m\u001b[0m\n\u001b[1;32m    365\u001b[0m \u001b[0;34m\u001b[0m\u001b[0m\n",
      "\u001b[0;32m/opt/conda/lib/python3.9/site-packages/sklearn/manifold/_t_sne.py\u001b[0m in \u001b[0;36m_kl_divergence_bh\u001b[0;34m(params, P, degrees_of_freedom, n_samples, n_components, angle, skip_num_points, verbose, compute_error, num_threads)\u001b[0m\n\u001b[1;32m    261\u001b[0m \u001b[0;34m\u001b[0m\u001b[0m\n\u001b[1;32m    262\u001b[0m     \u001b[0mgrad\u001b[0m \u001b[0;34m=\u001b[0m \u001b[0mnp\u001b[0m\u001b[0;34m.\u001b[0m\u001b[0mzeros\u001b[0m\u001b[0;34m(\u001b[0m\u001b[0mX_embedded\u001b[0m\u001b[0;34m.\u001b[0m\u001b[0mshape\u001b[0m\u001b[0;34m,\u001b[0m \u001b[0mdtype\u001b[0m\u001b[0;34m=\u001b[0m\u001b[0mnp\u001b[0m\u001b[0;34m.\u001b[0m\u001b[0mfloat32\u001b[0m\u001b[0;34m)\u001b[0m\u001b[0;34m\u001b[0m\u001b[0;34m\u001b[0m\u001b[0m\n\u001b[0;32m--> 263\u001b[0;31m     error = _barnes_hut_tsne.gradient(val_P, X_embedded, neighbors, indptr,\n\u001b[0m\u001b[1;32m    264\u001b[0m                                       \u001b[0mgrad\u001b[0m\u001b[0;34m,\u001b[0m \u001b[0mangle\u001b[0m\u001b[0;34m,\u001b[0m \u001b[0mn_components\u001b[0m\u001b[0;34m,\u001b[0m \u001b[0mverbose\u001b[0m\u001b[0;34m,\u001b[0m\u001b[0;34m\u001b[0m\u001b[0;34m\u001b[0m\u001b[0m\n\u001b[1;32m    265\u001b[0m                                       \u001b[0mdof\u001b[0m\u001b[0;34m=\u001b[0m\u001b[0mdegrees_of_freedom\u001b[0m\u001b[0;34m,\u001b[0m\u001b[0;34m\u001b[0m\u001b[0;34m\u001b[0m\u001b[0m\n",
      "\u001b[0;31mKeyboardInterrupt\u001b[0m: "
     ]
    }
   ],
   "source": [
    "#color represent the race group\n",
    "dims = TSNE(random_state=42).fit_transform(rnd_X)\n",
    "dim1, dim2 = dims[:, 0], dims[:, 1]\n",
    "sns.scatterplot(x=dim1, y=dim2, hue=rnd_y, palette='tab10', legend=False)\n",
    "plt.title('Overall race group labeled after t-SNE');"
   ]
  },
  {
   "cell_type": "code",
   "execution_count": null,
   "id": "8e052546",
   "metadata": {},
   "outputs": [],
   "source": [
    "#cluster labeled\n",
    "sns.scatterplot(x=dim1, y=dim2, hue=rnd_pred, palette='tab10', legend=False)\n",
    "plt.title('cluster labeled');"
   ]
  },
  {
   "cell_type": "markdown",
   "id": "e112b590",
   "metadata": {},
   "source": [
    "#### From Above: sklearn K-means seems fine, gonna use the same dim reduction visualization method to test my self-implemented k-means later."
   ]
  },
  {
   "cell_type": "markdown",
   "id": "abe9a8d5",
   "metadata": {},
   "source": [
    "## <span style='background:orange'>  One-hot-encoding Less Weight w/ Customized K-Means<span>"
   ]
  },
  {
   "cell_type": "code",
   "execution_count": null,
   "id": "ba4a4bc5",
   "metadata": {},
   "outputs": [],
   "source": [
    "df_feature"
   ]
  },
  {
   "cell_type": "markdown",
   "id": "63b78577",
   "metadata": {},
   "source": [
    "**for quick reference**\n",
    "\n",
    "df_feature = pd.concat({'day':need_normalize[0], 'month':need_normalize[1], \n",
    "                        'hour':need_normalize[2], 'minute': need_normalize[3], \n",
    "                        'area':need_normalize[4], \n",
    "                        'lat':need_normalize[5], 'lon':need_normalize[6], \n",
    "                        'Age': need_normalize[7], \n",
    "                        },axis=1)\n",
    "\n",
    "dummies_arrest = dummies_arrest.reset_index()\n",
    "dummies_charge = dummies_charge.reset_index()\n",
    "dummies_sex = dummies_sex.reset_index()\n",
    "\n",
    "df_feature = df_feature.merge(dummies_arrest, left_index=True, right_index=True)\n",
    "df_feature = df_feature.merge(dummies_charge, left_index=True, right_index=True)\n",
    "df_feature = df_feature.merge(dummies_sex, left_index=True, right_index=True)"
   ]
  },
  {
   "cell_type": "code",
   "execution_count": null,
   "id": "66f6e430",
   "metadata": {},
   "outputs": [],
   "source": [
    "df_feature.columns"
   ]
  },
  {
   "cell_type": "code",
   "execution_count": null,
   "id": "30bd1732",
   "metadata": {},
   "outputs": [],
   "source": [
    "# def Euclidean_distance(self, sub_matrix):\n",
    "#     #distance = np.linalg.norm(sub_matrix, axis = 1) #ini \n",
    "        \n",
    "#     distance = []\n",
    "#     for sub in sub_matrix: #for each centroids\n",
    "#         centroid_dis = 0\n",
    "#         #first 8 col: numerical feature: index 0-7\n",
    "#         for i in range(0, 8):\n",
    "#             dis_part = (sub[i])**2\n",
    "#             centroid_dis += dis_part\n",
    "#         #next 5 col: arrest one-hot-encoding: index 8-12\n",
    "#         for i in range(8, 13):\n",
    "#             dis_part = (1/5 * (sub[i])**2) #assign alpha\n",
    "#             centroid_dis += dis_part\n",
    "#         #next 27 col: charge one-hot-encoding: index 13-39: \n",
    "#         for i in range(13, 13+27):\n",
    "#             dis_part = (1/27 * (sub[i])**2) #assign alpha\n",
    "#             centroid_dis += dis_part\n",
    "#         #next 2 col: sex one-hot-encoding: 40-41\n",
    "#         for i in range(40, 42):\n",
    "#             dis_part = (1/2 * (sub[i])**2) #assign alpha\n",
    "#             centroid_dis += dis_part\n",
    "            \n",
    "#         centroid_dis = np.sqrt(centroid_dis)\n",
    "#         distance.append(centroid_dis)\n",
    "        \n",
    "#     return distance"
   ]
  },
  {
   "cell_type": "markdown",
   "id": "956a55f2",
   "metadata": {},
   "source": [
    "### **checking if self-implementation works fine (comparing with sklearn models' results): and it turns out not working so fine :((, nvm, got it working**\n",
    "\n",
    "<font color='red'>Looks like when I have 4 class, but the data are all classified into one group (class 1). The model then failed to recalculate the centroids for class 2 to 4 since I don't have any data classifed into those group, using np.mean doesn't work with 0 data, nor does any other function. Haven't figured a way to solve this problem.\n",
    "\n",
    "The problem seems to be at the centroid initialization step, try using kmeans++ to iteratively find the best initial centroids, seems like it works, at least the code didn't break, and the dim reduction graph and race distribution bar charts all looks fine.</font>"
   ]
  },
  {
   "cell_type": "code",
   "execution_count": null,
   "id": "212b8221",
   "metadata": {},
   "outputs": [],
   "source": [
    "from KMeans import KMeans_custom\n",
    "import numpy as np\n",
    "def get_grouping_assignment_custom(df_feature, num_cluster, order):\n",
    "    \n",
    "    #order 2 uses Euclidean distance for means; 1 uses Manhattan distance for medians\n",
    "\n",
    "    X = df_feature.values\n",
    "    y = pd.factorize(arrest['Descent Code'])[0]\n",
    "    \n",
    "    KMeans_custom_model = KMeans_custom(num_cluster, 200, order).fit(X)\n",
    "    \n",
    "    y_pred = KMeans_custom_model.predict(X)\n",
    "    center = KMeans_custom_model.get_centers()\n",
    "    loss = KMeans_custom_model.loss(X)\n",
    "    \n",
    "    return y, y_pred, center, loss\n"
   ]
  },
  {
   "cell_type": "code",
   "execution_count": null,
   "id": "29bc2bdc",
   "metadata": {},
   "outputs": [],
   "source": [
    "y, y_pred, center, loss = get_grouping_assignment_custom(df_feature, 4, 2)"
   ]
  },
  {
   "cell_type": "code",
   "execution_count": null,
   "id": "cf8d2f2c",
   "metadata": {},
   "outputs": [],
   "source": [
    "race_code_dic = {0:'O', 1:'H', 2:'B', 3:'W', 4:'A', 5:'G', 6:'F', 7:'J', 8:'I', 9:'C', 10:'K', 11:'P', 12:'X', 13:'U', 14:'Z', 15:'S', 16:'L'}\n",
    "\n",
    "y = pd.factorize(arrest['Descent Code'])[0]\n",
    "y = y.tolist()\n",
    "\n",
    "df_results_custom = pd.concat({'race_label':pd.Series(y).map(race_code_dic), \n",
    "                               'grouping':pd.Series(y_pred)}, axis=1) \n",
    "        \n"
   ]
  },
  {
   "cell_type": "code",
   "execution_count": null,
   "id": "77741640",
   "metadata": {},
   "outputs": [],
   "source": [
    "df_results_custom"
   ]
  },
  {
   "cell_type": "markdown",
   "id": "3d04c8a8",
   "metadata": {},
   "source": [
    "### Checking if Customized K-Means matches Sklearn model' results\n",
    "#### Dim Reduction Visualization & Race Distribution"
   ]
  },
  {
   "cell_type": "code",
   "execution_count": null,
   "id": "88fe5013",
   "metadata": {},
   "outputs": [],
   "source": [
    "import seaborn as sns\n",
    "from sklearn.manifold import TSNE, MDS\n",
    "\n",
    "X = df_feature.values.tolist()\n",
    "y = pd.factorize(arrest['Descent Code'])[0]\n",
    "y = y.tolist()\n",
    "\n",
    "rnd_indices = np.random.choice(207503, size=10000) #the size for pred is slightly smaller than X\n",
    "rnd_X = [X[i] for i in rnd_indices]\n",
    "pred = df_results_custom.grouping.tolist() \n",
    "rnd_pred = [pred[i] for i in rnd_indices]\n",
    "y = df_results_custom.race_label.tolist()\n",
    "rnd_y = [y[i] for i in rnd_indices]"
   ]
  },
  {
   "cell_type": "code",
   "execution_count": null,
   "id": "9a4c824b",
   "metadata": {},
   "outputs": [],
   "source": [
    "#color represent the race group\n",
    "dims = TSNE(random_state=42).fit_transform(rnd_X)\n",
    "dim1, dim2 = dims[:, 0], dims[:, 1]\n",
    "sns.scatterplot(x=dim1, y=dim2, hue=rnd_y, palette='tab10', legend=False)\n",
    "plt.title('Custom K-Means: Overall race group labeled after t-SNE');"
   ]
  },
  {
   "cell_type": "code",
   "execution_count": null,
   "id": "1dac2714",
   "metadata": {},
   "outputs": [],
   "source": [
    "#cluster labeled\n",
    "sns.scatterplot(x=dim1, y=dim2, hue=rnd_pred, palette='tab10', legend=False)\n",
    "plt.title('Custom K-Means: cluster labeled');"
   ]
  },
  {
   "cell_type": "markdown",
   "id": "3ea73fee",
   "metadata": {},
   "source": [
    "the clusters looks liks they have some patterns there, so my implementation should be working fine."
   ]
  },
  {
   "cell_type": "code",
   "execution_count": null,
   "id": "c775659f",
   "metadata": {},
   "outputs": [],
   "source": [
    "df_results_custom = df_results_custom[df_results_custom['race_label'].isin(['B', 'H', 'W', 'O'])]\n",
    "\n",
    "plotdata = pd.DataFrame({\n",
    "    \n",
    "    \"true_dist\": df_results_custom.race_label.value_counts(normalize=True).values,\n",
    "\n",
    "    \"cluster 0\":df_results_custom[df_results_custom['grouping'] == 0].race_label.value_counts(normalize=True).values,\n",
    "\n",
    "    \"cluster 1\":df_results_custom[df_results_custom['grouping'] == 1].race_label.value_counts(normalize=True).values,\n",
    "    \n",
    "    \"cluster 2\":df_results_custom[df_results_custom['grouping'] == 2].race_label.value_counts(normalize=True).values,\n",
    "\n",
    "    \"cluster 3\":df_results_custom[df_results_custom['grouping'] == 3].race_label.value_counts(normalize=True).values},\n",
    "       \n",
    "    index = list(df_results_custom[df_results_custom['grouping'] == 0].race_label.value_counts(normalize=True).index))\n",
    "\n",
    "my_colors = ['r', 'g', 'y', 'g', 'y']\n",
    "\n",
    "plotdata.plot(kind=\"bar\",figsize=(15, 8), color=my_colors)\n",
    "plt.title('Custom K-Mean: Race Distribution: Overall & Within_Clusters, k=4');"
   ]
  },
  {
   "cell_type": "markdown",
   "id": "ae2b7f4e",
   "metadata": {},
   "source": [
    "As expected, H and W have more variance."
   ]
  },
  {
   "cell_type": "markdown",
   "id": "4edfe882",
   "metadata": {},
   "source": [
    "### Some Discussion on Reweighting: \n",
    "- use customized distance function instead of np.linalg.norm(..., axis = 1):\n",
    "\n",
    "- the centroids nor the cluster assignment doesn't change much after many iteration, the problem might be on the centroids initialization step (I was randomly selecting datapoint from 10th to 90th percentile, and iteratively updating the centroids) ; or also bc iter_num is only 100 when I tested it\n",
    "\n",
    "solution: might need to look into existing package\\\n",
    "solution: use K-Means++ (Arthur & Vassilvitskii’07) (centroids are far away from each other, based on a weighted probability score)\n",
    "\n",
    "- Later: could try Kernel K-Means for non-linearly separated cases (downside of this method: I was lost in class back when learning kernel....., need to review some course material for the basic stuff)"
   ]
  },
  {
   "cell_type": "markdown",
   "id": "95045c2f",
   "metadata": {},
   "source": [
    "### <font color='blue'> Parking Ground: tried something else here  (K-Means++) (Can Comment Out Later) </font>"
   ]
  },
  {
   "cell_type": "code",
   "execution_count": null,
   "id": "eab222a8",
   "metadata": {},
   "outputs": [],
   "source": [
    "#### K-means model from sk-learn\n",
    "from sklearn.cluster import kmeans_plusplus\n",
    "import numpy as np\n",
    "\n",
    "def get_grouping_assignment_plus(df_feature, num_cluster):\n",
    "        \n",
    "    X = df_feature.values\n",
    "    y = pd.factorize(arrest['Descent Code'])[0]\n",
    "    \n",
    "    centers_init, indices = kmeans_plusplus(X, n_clusters=num_cluster, random_state=0)\n",
    "    \n",
    "#     prediction = []\n",
    "#     for x in X:\n",
    "#         y_pred = kmeans.predict(np.array([x]))\n",
    "#         prediction.append(y_pred)\n",
    "        \n",
    "#     loss = kmeans.inertia_\n",
    "    \n",
    "    return y, centers_init, indices\n"
   ]
  },
  {
   "cell_type": "code",
   "execution_count": null,
   "id": "9844ce7b",
   "metadata": {},
   "outputs": [],
   "source": [
    "y, centers_init, indices = get_grouping_assignment_plus(df_feature, 4)"
   ]
  },
  {
   "cell_type": "code",
   "execution_count": null,
   "id": "ce70bd11",
   "metadata": {},
   "outputs": [],
   "source": [
    "\n",
    "sub_matrix = X[indices] - X[0] #four datapoints - one datapoints"
   ]
  },
  {
   "cell_type": "code",
   "execution_count": null,
   "id": "c47e63a9",
   "metadata": {},
   "outputs": [],
   "source": [
    "np.linalg.norm(sub_matrix, axis = 1)"
   ]
  },
  {
   "cell_type": "code",
   "execution_count": null,
   "id": "6dce0512",
   "metadata": {},
   "outputs": [],
   "source": [
    "np.sqrt(np.sum((sub_matrix[1])**2))"
   ]
  },
  {
   "cell_type": "code",
   "execution_count": null,
   "id": "5506e9b8",
   "metadata": {},
   "outputs": [],
   "source": []
  }
 ],
 "metadata": {
  "kernelspec": {
   "display_name": "Python 3 (clean)",
   "language": "python",
   "name": "python3_clean"
  },
  "language_info": {
   "codemirror_mode": {
    "name": "ipython",
    "version": 3
   },
   "file_extension": ".py",
   "mimetype": "text/x-python",
   "name": "python",
   "nbconvert_exporter": "python",
   "pygments_lexer": "ipython3",
   "version": "3.9.5"
  }
 },
 "nbformat": 4,
 "nbformat_minor": 5
}
