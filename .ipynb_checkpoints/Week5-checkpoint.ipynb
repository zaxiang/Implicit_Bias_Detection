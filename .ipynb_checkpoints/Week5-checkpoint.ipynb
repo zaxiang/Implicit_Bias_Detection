{
 "cells": [
  {
   "cell_type": "markdown",
   "id": "4db1c004",
   "metadata": {},
   "source": [
    "## Week 5: \n",
    "### Comparing distributions among clusters and Finding suspicious inconsistency with the overall distribution."
   ]
  },
  {
   "cell_type": "markdown",
   "id": "90f25fe9",
   "metadata": {},
   "source": [
    "Roadmap\n",
    "\n",
    "1. Finding werid correlation between different variable:\n",
    "\n",
    "- k-means clustering (increase the number of clusters till it tells something (the distributions starting to be bit off):\n",
    "- compare the distribution among different clusters / compared to the overall distribution). Use visualization and tvd stats\n",
    "\n",
    "2. If there is some, then don't include them into the prediction. (Later task)"
   ]
  },
  {
   "cell_type": "markdown",
   "id": "31a96968",
   "metadata": {},
   "source": [
    "data from:\n",
    "\n",
    "https://www.kaggle.com/datasets/cityofLA/los-angeles-crime-arrest-data?select=arrest-data-from-2010-to-present.csv"
   ]
  },
  {
   "cell_type": "code",
   "execution_count": 1,
   "id": "600cdfec",
   "metadata": {},
   "outputs": [],
   "source": [
    "import pandas as pd\n",
    "arrest = pd.read_csv('arrest-data-from-2010-to-present.csv')\n",
    "crime = pd.read_csv('crime-data-from-2010-to-present.csv')"
   ]
  },
  {
   "cell_type": "markdown",
   "id": "35e0edb4",
   "metadata": {},
   "source": [
    "## Feature Eng (crime)"
   ]
  },
  {
   "cell_type": "code",
   "execution_count": 2,
   "id": "ac19a99a",
   "metadata": {},
   "outputs": [],
   "source": [
    "crime = crime[['Date Occurred', 'Time Occurred', 'Area ID', 'Area Name', \n",
    "               'Crime Code', 'Crime Code Description', 'Victim Sex','Victim Descent', \n",
    "               'Premise Code', 'Premise Description',\n",
    "               'Weapon Used Code', 'Weapon Description', \n",
    "               'Status Code','Status Description', \n",
    "               'Crime Code 1', 'Crime Code 2', 'Crime Code 3','Crime Code 4', 'Location ']]"
   ]
  },
  {
   "cell_type": "code",
   "execution_count": 3,
   "id": "d2308c7f",
   "metadata": {},
   "outputs": [],
   "source": [
    "#crime code into 4 category (dummies)\n",
    "crime['Crime Code 1'] = crime['Crime Code 1'].apply(lambda x: 0 if pd.isna(x) else 1)\n",
    "crime['Crime Code 2'] = crime['Crime Code 2'].apply(lambda x: 0 if pd.isna(x) else 1)\n",
    "crime['Crime Code 3'] = crime['Crime Code 3'].apply(lambda x: 0 if pd.isna(x) else 1)\n",
    "crime['Crime Code 4'] = crime['Crime Code 4'].apply(lambda x: 0 if pd.isna(x) else 1)"
   ]
  },
  {
   "cell_type": "code",
   "execution_count": 4,
   "id": "b83cc51c",
   "metadata": {},
   "outputs": [
    {
     "data": {
      "text/plain": [
       "(667399, 19)"
      ]
     },
     "execution_count": 4,
     "metadata": {},
     "output_type": "execute_result"
    }
   ],
   "source": [
    "crime = crime.dropna(axis=0)\n",
    "crime.shape"
   ]
  },
  {
   "cell_type": "code",
   "execution_count": 5,
   "id": "c8f3b80e",
   "metadata": {},
   "outputs": [],
   "source": [
    "#date (month, date), and time (hour,  minute)\n",
    "import datetime\n",
    "day = crime['Date Occurred'].apply(lambda x: int(str(x)[8:10]))\n",
    "month = crime['Date Occurred'].apply(lambda x: int(str(x)[5:7]))\n",
    "hour = crime['Time Occurred'].apply(lambda x: int(str(int(x))[:-2]) if str(int(x))[:-2] != '' else 0)\n",
    "minute = crime['Time Occurred'].apply(lambda x: int(str(int(x))[-2:]) if str(int(x))[-2:] != '' else 0)"
   ]
  },
  {
   "cell_type": "code",
   "execution_count": 6,
   "id": "474ad595",
   "metadata": {},
   "outputs": [],
   "source": [
    "#location (Geographic Areas, latitude, longitude)\n",
    "import ast\n",
    "dummies_area_ID = pd.get_dummies(crime['Area ID']) \n",
    "latitude = crime['Location '].apply(lambda x: float(ast.literal_eval(x)['latitude']))\n",
    "longitude = crime['Location '].apply(lambda x: float(ast.literal_eval(x)['longitude']))\n",
    "#dummies_type_location = pd.get_dummies(crime['Premise Code']) \n"
   ]
  },
  {
   "cell_type": "code",
   "execution_count": 7,
   "id": "d3f8dc25",
   "metadata": {},
   "outputs": [],
   "source": [
    "#crime code in four category (1 most serious)\n",
    "code1 = crime['Crime Code 1']\n",
    "code2 = crime['Crime Code 2']\n",
    "code3 = crime['Crime Code 3']\n",
    "code4 = crime['Crime Code 4']"
   ]
  },
  {
   "cell_type": "code",
   "execution_count": 8,
   "id": "1e898bf4",
   "metadata": {},
   "outputs": [],
   "source": [
    "#Victim\n",
    "victim_sex = pd.get_dummies(crime['Victim Sex'])\n",
    "victim_race = pd.get_dummies(crime['Victim Descent'])"
   ]
  },
  {
   "cell_type": "code",
   "execution_count": 9,
   "id": "e6d7fa56",
   "metadata": {},
   "outputs": [],
   "source": [
    "# status of the case\n",
    "status = pd.get_dummies(crime['Status Code'])"
   ]
  },
  {
   "cell_type": "code",
   "execution_count": 10,
   "id": "1ac7f488",
   "metadata": {},
   "outputs": [],
   "source": [
    "df_feature_crime = pd.concat({'day':day, 'month':month, 'hour':hour, 'minute': minute, \n",
    "                        'area':dummies_area_ID, 'lat':latitude, 'lon':longitude,\n",
    "                        'code1':code1, 'code2':code2, 'code3':code3, 'code4':code4, \n",
    "                        'victim_sex': victim_sex, 'victim_race': victim_race, 'status': status},axis=1)\n"
   ]
  },
  {
   "cell_type": "code",
   "execution_count": 54,
   "id": "dd9574cf",
   "metadata": {},
   "outputs": [
    {
     "data": {
      "text/plain": [
       "(667399, 62)"
      ]
     },
     "execution_count": 54,
     "metadata": {},
     "output_type": "execute_result"
    }
   ],
   "source": [
    "df_feature_crime.shape"
   ]
  },
  {
   "cell_type": "markdown",
   "id": "f8e305fa",
   "metadata": {},
   "source": [
    "## K-means model"
   ]
  },
  {
   "cell_type": "code",
   "execution_count": 2,
   "id": "8be5245e",
   "metadata": {},
   "outputs": [],
   "source": [
    "from sklearn.cluster import KMeans\n",
    "import numpy as np\n",
    "\n",
    "def get_grouping_assignment_crime(df_feature, feature_col, original_feature_col, num_cluster):\n",
    "    \n",
    "    df_feature = df_feature.drop(columns = [feature_col]) #not including the prediction variable\n",
    "    \n",
    "    X = df_feature.values.tolist()\n",
    "    y = pd.factorize(crime[original_feature_col])[0] #getting the true label from the original df\n",
    "    y = y.tolist()\n",
    "    \n",
    "    kmeans = KMeans(n_clusters=num_cluster, random_state=0).fit(X)\n",
    "    \n",
    "    prediction = []\n",
    "    for x in X:\n",
    "        y_pred = kmeans.predict(np.array([x]))\n",
    "        prediction.append(y_pred)\n",
    "    \n",
    "    loss = kmeans.inertia_\n",
    "    return y, [i[0] for i in prediction], loss\n"
   ]
  },
  {
   "cell_type": "code",
   "execution_count": 3,
   "id": "b96249f2",
   "metadata": {},
   "outputs": [],
   "source": [
    "def total_variation_distance(first_distrib, second_distrib):\n",
    "    '''Computes the total variation distance between two distributions.'''\n",
    "    return np.sum(np.abs(first_distrib - second_distrib)) / 2"
   ]
  },
  {
   "cell_type": "code",
   "execution_count": 5,
   "id": "ee52cacd",
   "metadata": {},
   "outputs": [],
   "source": [
    "def TVD_on_Victim_Sex(df_feature, cluster_range):\n",
    "    \n",
    "    loss_lis = []\n",
    "    \n",
    "    for num_cluster in cluster_range:\n",
    "        \n",
    "        tvd_lis = []\n",
    "        \n",
    "#         print(\"=======================Start with number of cluster =\", num_cluster, '=======================')\n",
    "        \n",
    "        group_assignment = get_grouping_assignment_crime(df_feature, 'victim_sex', 'Victim Sex', num_cluster)\n",
    "        y = group_assignment[0]\n",
    "        prediction = group_assignment[1]\n",
    "        loss = group_assignment[2]\n",
    "        loss_lis.append(loss)\n",
    "        \n",
    "        df_results = pd.concat({'sex_label':pd.Series(y).map({0:'F', 1:'M'}), \n",
    "                                'grouping':pd.Series(prediction)}, axis=1) \n",
    "        \n",
    "        y_dist_series = df_results.sex_label.value_counts(normalize=True)\n",
    "        \n",
    "        #after the clustering process is done, look into only one cluster at a time and calculate the tvd for sex \n",
    "        for group in df_results.grouping.unique(): \n",
    "            \n",
    "            pred_dist_series_group = df_results[df_results.grouping == group].sex_label.value_counts(normalize=True)\n",
    "            df_concat = pd.concat([y_dist_series, pred_dist_series_group], axis=1) #this step is to map the index, should all have sex code as index, and percent as value\n",
    "            df_concat.columns = ['c1', 'c2']\n",
    "            \n",
    "            tvd = total_variation_distance(np.array(df_concat['c1']), np.array(df_concat['c2'])) \n",
    "            tvd_lis.append(tvd)\n",
    "        \n",
    "        print(\"average tvd between\", str(num_cluster), \"cluster and overall distribution:\", str(sum(tvd_lis)/len(tvd_lis)))\n",
    "    \n",
    "    return loss_lis\n",
    "\n",
    "            #TODO: simulated TVDs and get the p-value if necessary (if tvd appears to be large)\n",
    "            #or not? if tvd is large than 0.01 or 0.05, then its clear p-value is gonna be close to 0 (or < 0.01)\n",
    "            \n",
    "#             simulated_tvds = np.array([])\n",
    "#             trials = 5000\n",
    "#             num_sample = len(prediction)\n",
    "#             for trial in np.arange(trials):\n",
    "#                 simulated_empirical = np.random.multinomial(num_sample, np.array(y_dist_series)) / num_sample\n",
    "#                 current_tvd = total_variation_distance(np.array(df_concat['c1']), simulated_empirical)\n",
    "#                 simulated_tvds = np.append(simulated_tvds, current_tvd)\n",
    "                \n",
    "#             #proportion of times in our simulation that we saw a TVD greater than or equal to our observed TVD.\n",
    "#             p_value = np.count_nonzero(simulated_tvds >= tvd) / trials\n",
    "            \n",
    "        "
   ]
  },
  {
   "cell_type": "code",
   "execution_count": 26,
   "id": "2f128d4d",
   "metadata": {},
   "outputs": [
    {
     "name": "stdout",
     "output_type": "stream",
     "text": [
      "=======================Start with number of cluster = 2 =======================\n",
      "average tvd between cluster and overall distribution: 0.019484336581934547\n",
      "=======================Start with number of cluster = 3 =======================\n",
      "average tvd between cluster and overall distribution: 0.030881041969847662\n",
      "=======================Start with number of cluster = 4 =======================\n",
      "average tvd between cluster and overall distribution: 0.027169092170423015\n",
      "=======================Start with number of cluster = 5 =======================\n",
      "average tvd between cluster and overall distribution: 0.026851284461399\n",
      "=======================Start with number of cluster = 6 =======================\n",
      "average tvd between cluster and overall distribution: 0.03086333279085908\n",
      "=======================Start with number of cluster = 7 =======================\n",
      "average tvd between cluster and overall distribution: 0.02727258464972359\n",
      "=======================Start with number of cluster = 8 =======================\n",
      "average tvd between cluster and overall distribution: 0.031490666671049786\n",
      "=======================Start with number of cluster = 9 =======================\n",
      "average tvd between cluster and overall distribution: 0.03039864410013636\n"
     ]
    }
   ],
   "source": [
    "#testing\n",
    "loss_lis = TVD_on_Victim_Sex(df_feature_crime, range(2, 10))"
   ]
  },
  {
   "cell_type": "code",
   "execution_count": 4,
   "id": "10a5b85d",
   "metadata": {},
   "outputs": [],
   "source": [
    "def plot_elbow(k_range, loss_lis):\n",
    "    from matplotlib import pyplot as plt\n",
    "    plt.plot(k_range, loss_lis)\n",
    "    plt.title('Optimal num of Cluster')\n",
    "    plt.xlabel('Num of clusters k')\n",
    "    plt.ylabel('Sum of squared distances')\n",
    "    plt.show"
   ]
  },
  {
   "cell_type": "markdown",
   "id": "ef8f86be",
   "metadata": {},
   "source": [
    "the tvd between victim sex (in crime df with 600,000 data) distribution overall and within clusters are **smaller** than the race case (in arrest df with 200,000 data), the loss scores are also **smaller**."
   ]
  },
  {
   "cell_type": "code",
   "execution_count": 40,
   "id": "03e6f2cb",
   "metadata": {},
   "outputs": [
    {
     "data": {
      "image/png": "[encoded data removed]",
      "text/plain": [
       "<Figure size 432x288 with 1 Axes>"
      ]
     },
     "metadata": {
      "needs_background": "light"
     },
     "output_type": "display_data"
    }
   ],
   "source": [
    "plot_elbow(np.arange(2, 10), loss_lis)"
   ]
  },
  {
   "cell_type": "markdown",
   "id": "4f86d956",
   "metadata": {},
   "source": [
    "## Feature Eng (arrest)"
   ]
  },
  {
   "cell_type": "code",
   "execution_count": 5,
   "id": "8713b929",
   "metadata": {},
   "outputs": [],
   "source": [
    "arrest = arrest.dropna(axis=0)"
   ]
  },
  {
   "cell_type": "code",
   "execution_count": 6,
   "id": "86f9a13b",
   "metadata": {},
   "outputs": [],
   "source": [
    "#date (month, date), and time (hour,  minute)\n",
    "import datetime\n",
    "day = arrest['Arrest Date'].apply(lambda x: int(str(x)[8:10]))\n",
    "month = arrest['Arrest Date'].apply(lambda x: int(str(x)[5:7]))\n",
    "hour = arrest['Time'].apply(lambda x: int(str(int(x))[:-2]) if str(int(x))[:-2] != '' else 0)\n",
    "minute = arrest['Time'].apply(lambda x: int(str(int(x))[-2:]) if str(int(x))[:-2] != '' else 0)"
   ]
  },
  {
   "cell_type": "code",
   "execution_count": 7,
   "id": "ba14626c",
   "metadata": {},
   "outputs": [],
   "source": [
    "#location (Geographic Areas, latitude, longitude)\n",
    "import ast\n",
    "area_ID = arrest['Area ID']\n",
    "latitude = arrest['Location'].apply(lambda x: float(ast.literal_eval(x)['latitude']))\n",
    "longitude = arrest['Location'].apply(lambda x: float(ast.literal_eval(x)['longitude']))"
   ]
  },
  {
   "cell_type": "code",
   "execution_count": 8,
   "id": "20496925",
   "metadata": {},
   "outputs": [],
   "source": [
    "#charge and arrest type\n",
    "dummies_arrest = pd.get_dummies(arrest['Arrest Type Code'])\n",
    "dummies_charge = pd.get_dummies(arrest['Charge Group Code'])"
   ]
  },
  {
   "cell_type": "code",
   "execution_count": 9,
   "id": "866b4b8c",
   "metadata": {},
   "outputs": [],
   "source": [
    "#Age\n",
    "age = arrest['Age']\n",
    "#sex\n",
    "dummies_sex = pd.get_dummies(arrest['Sex Code'])\n",
    "#race\n",
    "dummies_race = pd.get_dummies(arrest['Descent Code'])"
   ]
  },
  {
   "cell_type": "code",
   "execution_count": 10,
   "id": "e25ab095",
   "metadata": {},
   "outputs": [],
   "source": [
    "df_feature = pd.concat({'day':day, 'month':month, 'hour':hour, 'minute': minute, \n",
    "                        'area':area_ID, 'lat':latitude, 'lon':longitude, \n",
    "                        'arrest':dummies_arrest, 'charge': dummies_charge, \n",
    "                        'Age': age, 'Sex Code': dummies_sex, 'Descent Code': dummies_race},axis=1)\n"
   ]
  },
  {
   "cell_type": "code",
   "execution_count": 11,
   "id": "8cdd7c73",
   "metadata": {},
   "outputs": [
    {
     "data": {
      "text/plain": [
       "(208260, 59)"
      ]
     },
     "execution_count": 11,
     "metadata": {},
     "output_type": "execute_result"
    }
   ],
   "source": [
    "df_feature.shape"
   ]
  },
  {
   "cell_type": "code",
   "execution_count": 12,
   "id": "2cbef6b2",
   "metadata": {},
   "outputs": [],
   "source": [
    "#### K-means model\n",
    "from sklearn.cluster import KMeans\n",
    "import numpy as np\n",
    "\n",
    "def get_grouping_assignment(df_feature, predict_feature, num_cluster):\n",
    "    \n",
    "    df_feature = df_feature.drop(columns = [predict_feature])\n",
    "    \n",
    "    X = df_feature.values.tolist()\n",
    "    y = pd.factorize(arrest[predict_feature])[0]\n",
    "    y = y.tolist()\n",
    "    \n",
    "    kmeans = KMeans(n_clusters=num_cluster, random_state=0).fit(X)\n",
    "    \n",
    "    prediction = []\n",
    "    for x in X:\n",
    "        y_pred = kmeans.predict(np.array([x]))\n",
    "        prediction.append(y_pred)\n",
    "        \n",
    "    loss = kmeans.inertia_\n",
    "    \n",
    "    return y, [i[0] for i in prediction], loss\n"
   ]
  },
  {
   "cell_type": "markdown",
   "id": "b7ec2c5f",
   "metadata": {},
   "source": [
    "#### training model without race info:\n",
    "## (Arrest df) Race - use tvd statistic bc its hard to vis when theres too many groups"
   ]
  },
  {
   "cell_type": "markdown",
   "id": "a7f591c8",
   "metadata": {},
   "source": [
    "A Other Asian B - Black C - Chinese D - Cambodian F - Filipino G - Guamanian H - Hispanic/Latin/Mexican I - American Indian/Alaskan Native J - Japanese K - Korean L - Laotian O - Other P - Pacific Islander S - Samoan U - Hawaiian V - Vietnamese W - White X - Unknown Z - Asian Indian"
   ]
  },
  {
   "cell_type": "markdown",
   "id": "42f02fdb",
   "metadata": {},
   "source": [
    "#### Vis on racial distribution overall and within 4 clusters :"
   ]
  },
  {
   "cell_type": "markdown",
   "id": "95fa4107",
   "metadata": {},
   "source": [
    "A simple testing w/ visualization:\n",
    "\n",
    "fit K-means models on the all data variables (except race) and set number of clusters to be 4. The distributions of race in each clutser (right pic) doesn't seems to be too off from the overall distributions of race in the arrest dataset. It is not so clear from vis if I do more clusters tho.\n",
    "\n",
    "Note: only visualizing the four most common race here (each has percentage > 1% in the overall dataset)\n",
    "\n",
    "<table><tr>\n",
    "<td> <img src='Screen Shot 2023-02-10 at 3.21.39 AM.png' width='450'> </td>\n",
    "<td> <img src='Screen Shot 2023-02-10 at 3.21.47 AM.png' width='450'> </td>\n",
    "</tr></table>\n"
   ]
  },
  {
   "cell_type": "markdown",
   "id": "98d1fb40",
   "metadata": {},
   "source": [
    "#### Use TVD stats to get the difference between racial distribution in single cluster and overall population and Get the chance that the difference might be due to randomness using 5,000 simulated TVDs "
   ]
  },
  {
   "cell_type": "markdown",
   "id": "20a2ac68",
   "metadata": {},
   "source": [
    "\n",
    "The function below train a k-means model with different number of clusters (trying from 2 to 9), and print out the total variation distance between the distributions of race overall  and the distribution of race in each cluster"
   ]
  },
  {
   "cell_type": "markdown",
   "id": "1277d7c1",
   "metadata": {},
   "source": [
    "##### results:\n",
    "The tvd scores go up to around 0.1 when I increase the number of cluster from 2 to 3, and stays about the same from cluster_num = 3 to 9. \n",
    "\n",
    "The p-values are not looking so good, from doing 3 clusters to 9 clusters, the tvd is in not in any range of simulated valued (tvd) for any cluster / model.\n",
    "\n",
    "<strike>If I do simulated TVDs for like 1000 (or 5000) to test if the tvd is reasonable, then it might be obvious (without testing it out) that p-value is gonna be 0 for most clusters, and that shows the race data in each cluster is inconsistent with the overall distribution.</strike>\n",
    "\n"
   ]
  },
  {
   "cell_type": "code",
   "execution_count": 15,
   "id": "6cae5675",
   "metadata": {},
   "outputs": [],
   "source": [
    "def TVD_on_Race(df_feature, cluster_range):\n",
    "    \n",
    "    loss_lis = []\n",
    "    \n",
    "    significant_race = ['B', 'H', 'W', 'O']\n",
    "    \n",
    "    race_code_dic = {0:'O', 1:'H', 2:'B', 3:'W', 4:'A', 5:'G', 6:'F', 7:'J', 8:'I', 9:'C', 10:'K', 11:'P', 12:'X', 13:'U', 14:'Z', 15:'S', 16:'L'}\n",
    "\n",
    "    def total_variation_distance(first_distrib, second_distrib):\n",
    "        '''Computes the total variation distance between two distributions.'''\n",
    "        return np.sum(np.abs(first_distrib - second_distrib)) / 2\n",
    "    \n",
    "    for num_cluster in cluster_range:\n",
    "        \n",
    "        tvd_lis = []\n",
    "        \n",
    "        group_assignment = get_grouping_assignment(df_feature, 'Descent Code', num_cluster)\n",
    "        y = group_assignment[0]\n",
    "        prediction = group_assignment[1]\n",
    "        loss = group_assignment[2]\n",
    "        \n",
    "        loss_lis.append(loss)\n",
    "        \n",
    "        #TODO: does mapping actually work for the predictiuon here?\n",
    "        df_results = pd.concat({'race_label':pd.Series(y).map(race_code_dic), \n",
    "                                'grouping':pd.Series(prediction).map(race_code_dic)}, axis=1) \n",
    "        \n",
    "        #only getting the distribution of 'B', 'H', 'W', 'O'\n",
    "        y_dist_series = df_results[df_results.race_label.isin(significant_race)].race_label.value_counts(normalize=True)\n",
    "        \n",
    "#         print(\"======================= Model with\", num_cluster,  \"of cluster =======================\")\n",
    "        \n",
    "        #after the clustering process is done, look into only one cluster at a time and calculate the tvd for race\n",
    "        for group in df_results.grouping.unique(): \n",
    "            \n",
    "            pred_dist_series_group = df_results[(df_results.grouping == group) & (df_results.race_label.isin(significant_race))].race_label.value_counts(normalize=True)\n",
    "            df_concat = pd.concat([y_dist_series, pred_dist_series_group], axis=1) #this step is to map the index, should all have race code as index, and percent as value\n",
    "            df_concat.columns = ['c1', 'c2']\n",
    "            \n",
    "            tvd = total_variation_distance(np.array(df_concat['c1']), np.array(df_concat['c2'])) \n",
    "            tvd_lis.append(tvd)\n",
    "        \n",
    "        print(\"average tvd between\", str(num_cluster), \"cluster and overall distribution:\", sum(tvd_lis)/len(tvd_lis))\n",
    "\n",
    "    return loss_lis\n",
    "\n",
    "            #TODO: simulated TVDs and get the p-value if necessary (if tvd appears to be large)\n",
    "            #or not? if tvd is large than 0.01 or 0.05, then its clear p-value is gonna be close to 0 (or < 0.01)\n",
    "            \n",
    "#             simulated_tvds = np.array([])\n",
    "#             trials = 5000\n",
    "#             num_sample = len(prediction)\n",
    "#             for trial in np.arange(trials):\n",
    "#                 simulated_empirical = np.random.multinomial(num_sample, np.array(y_dist_series)) / num_sample\n",
    "#                 current_tvd = total_variation_distance(np.array(df_concat['c1']), simulated_empirical)\n",
    "#                 simulated_tvds = np.append(simulated_tvds, current_tvd)\n",
    "                \n",
    "#             #proportion of times in our simulation that we saw a TVD greater than or equal to our observed TVD.\n",
    "#             p_value = np.count_nonzero(simulated_tvds >= tvd) / trials\n",
    "            \n",
    "           \n",
    "            \n",
    "        "
   ]
  },
  {
   "cell_type": "code",
   "execution_count": 17,
   "id": "905dad01",
   "metadata": {},
   "outputs": [
    {
     "name": "stdout",
     "output_type": "stream",
     "text": [
      "average tvd between 2 cluster and overall distribution: 0.0024517272789975914\n",
      "average tvd between 3 cluster and overall distribution: 0.07063290482053314\n",
      "average tvd between 4 cluster and overall distribution: 0.08929064472244505\n",
      "average tvd between 5 cluster and overall distribution: 0.08868238118332543\n",
      "average tvd between 6 cluster and overall distribution: 0.08962312330426163\n",
      "average tvd between 7 cluster and overall distribution: 0.08776917088015476\n",
      "average tvd between 8 cluster and overall distribution: 0.08652123501262815\n",
      "average tvd between 9 cluster and overall distribution: 0.08530419351357756\n"
     ]
    }
   ],
   "source": [
    "#testing\n",
    "loss_lis_arrest = TVD_on_Race(df_feature, range(2, 10))"
   ]
  },
  {
   "cell_type": "code",
   "execution_count": 20,
   "id": "da0f308a",
   "metadata": {},
   "outputs": [
    {
     "data": {
      "image/png": "[encoded data removed]",
      "text/plain": [
       "<Figure size 432x288 with 1 Axes>"
      ]
     },
     "metadata": {
      "needs_background": "light"
     },
     "output_type": "display_data"
    }
   ],
   "source": [
    "plot_elbow(np.arange(2, 10), loss_lis_arrest)"
   ]
  },
  {
   "cell_type": "markdown",
   "id": "80a6ea65",
   "metadata": {},
   "source": [
    "#### training model without using sex info:\n",
    "## (Arrest df) Sex - using vis method & tvd"
   ]
  },
  {
   "cell_type": "markdown",
   "id": "4e422f2f",
   "metadata": {},
   "source": [
    "the tvd scores remain to be about < 0.05, which seems good. Will see more by using the simulated TVDs "
   ]
  },
  {
   "cell_type": "code",
   "execution_count": 13,
   "id": "04f29d6a",
   "metadata": {},
   "outputs": [],
   "source": [
    "def TVD_on_Sex(df_feature, cluster_range):\n",
    "    \n",
    "    loss_lis = []\n",
    "    \n",
    "    def total_variation_distance(first_distrib, second_distrib):\n",
    "        '''Computes the total variation distance between two distributions.'''\n",
    "        return np.sum(np.abs(first_distrib - second_distrib)) / 2\n",
    "    \n",
    "    for num_cluster in cluster_range:\n",
    "        \n",
    "        tvd_lis = []\n",
    "        \n",
    "        group_assignment = get_grouping_assignment(df_feature, 'Sex Code', num_cluster)\n",
    "        y = group_assignment[0]\n",
    "        prediction = group_assignment[1]\n",
    "        loss = group_assignment[2]\n",
    "        \n",
    "        loss_lis.append(loss)\n",
    "        \n",
    "        df_results = pd.concat({'sex_label':pd.Series(y).map({0:'F', 1:'M'}), \n",
    "                                'grouping':pd.Series(prediction)}, axis=1) \n",
    "        \n",
    "        y_dist_series = df_results.sex_label.value_counts(normalize=True)\n",
    "        \n",
    "#         print(\"=======================Start with number of cluster =\", num_cluster, '=======================')\n",
    "        #after the clustering process is done, look into only one cluster at a time and calculate the tvd for sex \n",
    "        for group in df_results.grouping.unique(): \n",
    "            \n",
    "            pred_dist_series_group = df_results[df_results.grouping == group].sex_label.value_counts(normalize=True)\n",
    "            df_concat = pd.concat([y_dist_series, pred_dist_series_group], axis=1) #this step is to map the index, should all have sex code as index, and percent as value\n",
    "            df_concat.columns = ['c1', 'c2']\n",
    "            \n",
    "            tvd = total_variation_distance(np.array(df_concat['c1']), np.array(df_concat['c2'])) \n",
    "            tvd_lis.append(tvd)\n",
    "        \n",
    "        print(\"average tvd between\", str(num_cluster), \"cluster and overall distribution:\", sum(tvd_lis)/len(tvd_lis))\n",
    "        \n",
    "    return loss_lis\n",
    "\n",
    "            #TODO: simulated TVDs and get the p-value if necessary (if tvd appears to be large)\n",
    "            #or not? if tvd is large than 0.01 or 0.05, then its clear p-value is gonna be close to 0 (or < 0.01)\n",
    "            \n",
    "#             simulated_tvds = np.array([])\n",
    "#             trials = 5000\n",
    "#             num_sample = len(prediction)\n",
    "#             for trial in np.arange(trials):\n",
    "#                 simulated_empirical = np.random.multinomial(num_sample, np.array(y_dist_series)) / num_sample\n",
    "#                 current_tvd = total_variation_distance(np.array(df_concat['c1']), simulated_empirical)\n",
    "#                 simulated_tvds = np.append(simulated_tvds, current_tvd)\n",
    "                \n",
    "#             #proportion of times in our simulation that we saw a TVD greater than or equal to our observed TVD.\n",
    "#             p_value = np.count_nonzero(simulated_tvds >= tvd) / trials\n",
    "            \n",
    "        "
   ]
  },
  {
   "cell_type": "code",
   "execution_count": 14,
   "id": "8566e197",
   "metadata": {},
   "outputs": [
    {
     "name": "stdout",
     "output_type": "stream",
     "text": [
      "average tvd between 2 cluster and overall distribution: 7.269295504486184e-05\n",
      "average tvd between 3 cluster and overall distribution: 0.03123561490561196\n",
      "average tvd between 4 cluster and overall distribution: 0.03902762089435825\n",
      "average tvd between 5 cluster and overall distribution: 0.03802891435792087\n",
      "average tvd between 6 cluster and overall distribution: 0.03955928285166375\n",
      "average tvd between 7 cluster and overall distribution: 0.03734016254605949\n",
      "average tvd between 8 cluster and overall distribution: 0.036089372526867045\n",
      "average tvd between 9 cluster and overall distribution: 0.036156825489034414\n"
     ]
    }
   ],
   "source": [
    "loss_lis_arrest_sex = TVD_on_Sex(df_feature, range(2, 10))"
   ]
  },
  {
   "cell_type": "code",
   "execution_count": 15,
   "id": "e06b5567",
   "metadata": {},
   "outputs": [
    {
     "data": {
      "image/png": "[encoded data removed]",
      "text/plain": [
       "<Figure size 432x288 with 1 Axes>"
      ]
     },
     "metadata": {
      "needs_background": "light"
     },
     "output_type": "display_data"
    }
   ],
   "source": [
    "plot_elbow(np.arange(2, 10), loss_lis_arrest_sex)"
   ]
  },
  {
   "cell_type": "markdown",
   "id": "85c1052f",
   "metadata": {},
   "source": [
    "#### Example Vis for 7 culsters"
   ]
  },
  {
   "cell_type": "code",
   "execution_count": 205,
   "id": "dac6e38a",
   "metadata": {},
   "outputs": [],
   "source": [
    "prediction = get_grouping(df_feature, 'Sex Code', 7)"
   ]
  },
  {
   "cell_type": "code",
   "execution_count": 206,
   "id": "0f9f1626",
   "metadata": {},
   "outputs": [],
   "source": [
    "df_results = pd.concat({'sex_label':pd.Series(y).map({0:'F', 1:'M'}), 'grouping':pd.Series(prediction)}, axis=1)"
   ]
  },
  {
   "cell_type": "code",
   "execution_count": 208,
   "id": "31f84889",
   "metadata": {},
   "outputs": [
    {
     "data": {
      "text/plain": [
       "<AxesSubplot:title={'center':'sex distribution overall'}>"
      ]
     },
     "execution_count": 208,
     "metadata": {},
     "output_type": "execute_result"
    },
    {
     "data": {
      "image/png": "[encoded data removed]",
      "text/plain": [
       "<Figure size 640x480 with 1 Axes>"
      ]
     },
     "metadata": {},
     "output_type": "display_data"
    }
   ],
   "source": [
    "df_results.sex_label.value_counts(normalize=True).plot(kind='barh', title='sex distribution overall')"
   ]
  },
  {
   "cell_type": "code",
   "execution_count": 209,
   "id": "8839c330",
   "metadata": {},
   "outputs": [
    {
     "data": {
      "text/plain": [
       "<AxesSubplot:title={'center':'sex distribution in each group'}, ylabel='grouping,sex_label'>"
      ]
     },
     "execution_count": 209,
     "metadata": {},
     "output_type": "execute_result"
    },
    {
     "data": {
      "image/png": "[encoded data removed]",
      "text/plain": [
       "<Figure size 640x480 with 1 Axes>"
      ]
     },
     "metadata": {},
     "output_type": "display_data"
    }
   ],
   "source": [
    "df_results.groupby('grouping')['sex_label'].value_counts(normalize=True).plot(kind='barh', title='sex distribution in each group')\n"
   ]
  },
  {
   "cell_type": "markdown",
   "id": "a218ad9b",
   "metadata": {},
   "source": [
    "looks like the gender distribution different a lot from group 6 to group 0 (with group 0 clasifying more male cases than the overal distribution which is .8).\n",
    "\n",
    "Look into what could case this (by looking at other feature variable that differ a lot in group 6 and 0)."
   ]
  },
  {
   "cell_type": "code",
   "execution_count": 225,
   "id": "1cd19ff9",
   "metadata": {},
   "outputs": [],
   "source": [
    "df_feature_result = pd.concat({'grouping':df_results.grouping, \n",
    "                               'age': age[:1000].reset_index().drop(columns = ['index']).Age, \n",
    "                               'race': arrest['Descent Code'][:1000].reset_index().drop(columns = ['index'])['Descent Code']},axis=1)"
   ]
  },
  {
   "cell_type": "code",
   "execution_count": 261,
   "id": "21792275",
   "metadata": {},
   "outputs": [
    {
     "data": {
      "image/png": "[encoded data removed]",
      "text/plain": [
       "<Figure size 640x480 with 1 Axes>"
      ]
     },
     "metadata": {},
     "output_type": "display_data"
    }
   ],
   "source": [
    "import matplotlib.pyplot as plt \n",
    "race_index = ['B', 'H', 'W', 'O', 'A', 'G']\n",
    "group_0_pro = [0.5170068 , 0.26530612, 0.19047619, 0.02040816, 0, 0.00680272]\n",
    "group_6_pro = [0.43229167, 0.421875  , 0.13020833, 0.015625, 0, 0]\n",
    "\n",
    "X_axis = np.arange(len(race_index))\n",
    "\n",
    "plt.bar(X_axis, df_feature_result['race'].value_counts(normalize=True), 0.2, label = 'overall')\n",
    "plt.bar(X_axis+0.2, group_0_pro, 0.2, label = 'group_0')\n",
    "plt.bar(X_axis+0.4, group_6_pro, 0.2, label = 'group_6')\n",
    "\n",
    "plt.xticks(X_axis, race_index)\n",
    "plt.xlabel(\"Race\")\n",
    "plt.ylabel(\"Proportion\")\n",
    "plt.title(\"Proportion of Race overall and in group 0\")\n",
    "plt.legend()\n",
    "plt.show()"
   ]
  },
  {
   "cell_type": "markdown",
   "id": "d2acaaae",
   "metadata": {},
   "source": [
    "race doesn't seem like a important factor here (only from the distribution)"
   ]
  },
  {
   "cell_type": "code",
   "execution_count": 260,
   "id": "af4d6142",
   "metadata": {},
   "outputs": [
    {
     "data": {
      "text/plain": [
       "array([0.43229167, 0.421875  , 0.13020833, 0.015625  ])"
      ]
     },
     "execution_count": 260,
     "metadata": {},
     "output_type": "execute_result"
    }
   ],
   "source": [
    "group_6 = df_feature_result[df_feature_result.grouping == 6]\n",
    "group_6['race'].value_counts(normalize=True).values"
   ]
  }
 ],
 "metadata": {
  "kernelspec": {
   "display_name": "Python 3 (ipykernel)",
   "language": "python",
   "name": "python3"
  },
  "language_info": {
   "codemirror_mode": {
    "name": "ipython",
    "version": 3
   },
   "file_extension": ".py",
   "mimetype": "text/x-python",
   "name": "python",
   "nbconvert_exporter": "python",
   "pygments_lexer": "ipython3",
   "version": "3.9.5"
  }
 },
 "nbformat": 4,
 "nbformat_minor": 5
}
